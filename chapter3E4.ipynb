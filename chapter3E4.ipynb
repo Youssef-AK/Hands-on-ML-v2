{
  "nbformat": 4,
  "nbformat_minor": 0,
  "metadata": {
    "colab": {
      "name": "chapter3E4.ipynb",
      "provenance": [],
      "authorship_tag": "ABX9TyNfu4HomfvJ44gg4IgKyTY0",
      "include_colab_link": true
    },
    "kernelspec": {
      "name": "python3",
      "display_name": "Python 3"
    },
    "language_info": {
      "name": "python"
    }
  },
  "cells": [
    {
      "cell_type": "markdown",
      "metadata": {
        "id": "view-in-github",
        "colab_type": "text"
      },
      "source": [
        "<a href=\"https://colab.research.google.com/github/Youssef-AK/Hands-on-ML-v2/blob/main/chapter3E4.ipynb\" target=\"_parent\"><img src=\"https://colab.research.google.com/assets/colab-badge.svg\" alt=\"Open In Colab\"/></a>"
      ]
    },
    {
      "cell_type": "markdown",
      "metadata": {
        "id": "6v74wAZID1ii"
      },
      "source": [
        "## 4. Spam classifier"
      ]
    },
    {
      "cell_type": "code",
      "metadata": {
        "id": "ivWsREF4TSjh"
      },
      "source": [
        "import os\n",
        "import tarfile\n",
        "import urllib.request\n",
        "OWNLOAD_ROOT = \"http://spamassassin.apache.org/old/publiccorpus/\"\n",
        "HAM_URL = DOWNLOAD_ROOT + \"20030228_easy_ham.tar.bz2\"\n",
        "SPAM_URL = DOWNLOAD_ROOT + \"20030228_spam.tar.bz2\"\n",
        "SPAM_PATH = os.path.join(\"datasets\", \"spam\")\n",
        "\n",
        "def fetch_spam_data(ham_url=HAM_URL, spam_url=SPAM_URL, spam_path=SPAM_PATH):\n",
        "    if not os.path.isdir(spam_path):\n",
        "        os.makedirs(spam_path)\n",
        "    for filename, url in ((\"ham.tar.bz2\", ham_url), (\"spam.tar.bz2\", spam_url)):\n",
        "        path = os.path.join(spam_path, filename)\n",
        "        if not os.path.isfile(path):\n",
        "            urllib.request.urlretrieve(url, path)\n",
        "        tar_bz2_file = tarfile.open(path)\n",
        "        tar_bz2_file.extractall(path=spam_path)\n",
        "        tar_bz2_file.close()"
      ],
      "execution_count": 93,
      "outputs": []
    },
    {
      "cell_type": "code",
      "metadata": {
        "id": "WSDxU6nkhoXo"
      },
      "source": [
        "fetch_spam_data()"
      ],
      "execution_count": 94,
      "outputs": []
    },
    {
      "cell_type": "code",
      "metadata": {
        "id": "8RNdOSTEhx5I"
      },
      "source": [
        "HAM_DIR = os.path.join(SPAM_PATH, \"easy_ham\")\n",
        "SPAM_DIR = os.path.join(SPAM_PATH, \"spam_2\")\n",
        "ham_filenames = [name for name in sorted(os.listdir(HAM_DIR)) if len(name) > 20] # list \n",
        "spam_filenames = [name for name in sorted(os.listdir(SPAM_DIR)) if len(name) > 20] # list"
      ],
      "execution_count": 95,
      "outputs": []
    },
    {
      "cell_type": "code",
      "metadata": {
        "colab": {
          "base_uri": "https://localhost:8080/"
        },
        "id": "4y9IesJUns5S",
        "outputId": "57b5bcef-a93b-4460-d165-acb5cb23faea"
      },
      "source": [
        "# أسماء الملفات \n",
        "print(\"ham : \",len(ham_filenames))\n",
        "print(\"spam : \",len(spam_filenames))"
      ],
      "execution_count": 96,
      "outputs": [
        {
          "output_type": "stream",
          "text": [
            "ham :  2551\n",
            "spam :  1396\n"
          ],
          "name": "stdout"
        }
      ]
    },
    {
      "cell_type": "code",
      "metadata": {
        "id": "T8mg2Bp_r9DJ"
      },
      "source": [
        "import email\n",
        "import email.policy\n",
        "\n",
        "def load_email(is_spam, filename, spam_path=SPAM_PATH):\n",
        "    directory = \"spam_2\" if is_spam else \"easy_ham\"\n",
        "    with open(os.path.join(spam_path, directory, filename), \"rb\") as f:\n",
        "        return email.parser.BytesParser(policy=email.policy.default).parse(f)"
      ],
      "execution_count": 97,
      "outputs": []
    },
    {
      "cell_type": "code",
      "metadata": {
        "id": "t_GkEM-GsOZo"
      },
      "source": [
        "ham_emails = [load_email(is_spam=False, filename=name) for name in ham_filenames] #list\n",
        "spam_emails = [load_email(is_spam=True, filename=name) for name in spam_filenames] # list"
      ],
      "execution_count": 98,
      "outputs": []
    },
    {
      "cell_type": "code",
      "metadata": {
        "colab": {
          "base_uri": "https://localhost:8080/"
        },
        "id": "QYWUDie6tgYG",
        "outputId": "a6d35fcb-8498-4c6d-f25f-12b636e59d26"
      },
      "source": [
        "print(ham_emails[0])"
      ],
      "execution_count": 99,
      "outputs": [
        {
          "output_type": "stream",
          "text": [
            "Return-Path: <exmh-workers-admin@example.com>\n",
            "Delivered-To: zzzz@localhost.netnoteinc.com\n",
            "Received: from localhost (localhost [127.0.0.1])\n",
            "\tby phobos.labs.netnoteinc.com (Postfix) with ESMTP id D03E543C36\n",
            "\tfor <zzzz@localhost>; Thu, 22 Aug 2002 07:36:16 -0400 (EDT)\n",
            "Received: from phobos [127.0.0.1]\n",
            "\tby localhost with IMAP (fetchmail-5.9.0)\n",
            "\tfor zzzz@localhost (single-drop); Thu, 22 Aug 2002 12:36:16 +0100 (IST)\n",
            "Received: from listman.example.com (listman.example.com [66.187.233.211]) by\n",
            "    dogma.slashnull.org (8.11.6/8.11.6) with ESMTP id g7MBYrZ04811 for\n",
            "    <zzzz-exmh@example.com>; Thu, 22 Aug 2002 12:34:53 +0100\n",
            "Received: from listman.example.com (localhost.localdomain [127.0.0.1]) by\n",
            "    listman.redhat.com (Postfix) with ESMTP id 8386540858; Thu, 22 Aug 2002\n",
            "    07:35:02 -0400 (EDT)\n",
            "Delivered-To: exmh-workers@listman.example.com\n",
            "Received: from int-mx1.corp.example.com (int-mx1.corp.example.com\n",
            "    [172.16.52.254]) by listman.redhat.com (Postfix) with ESMTP id 10CF8406D7\n",
            "    for <exmh-workers@listman.redhat.com>; Thu, 22 Aug 2002 07:34:10 -0400\n",
            "    (EDT)\n",
            "Received: (from mail@localhost) by int-mx1.corp.example.com (8.11.6/8.11.6)\n",
            "    id g7MBY7g11259 for exmh-workers@listman.redhat.com; Thu, 22 Aug 2002\n",
            "    07:34:07 -0400\n",
            "Received: from mx1.example.com (mx1.example.com [172.16.48.31]) by\n",
            "    int-mx1.corp.redhat.com (8.11.6/8.11.6) with SMTP id g7MBY7Y11255 for\n",
            "    <exmh-workers@redhat.com>; Thu, 22 Aug 2002 07:34:07 -0400\n",
            "Received: from ratree.psu.ac.th ([202.28.97.6]) by mx1.example.com\n",
            "    (8.11.6/8.11.6) with SMTP id g7MBIhl25223 for <exmh-workers@redhat.com>;\n",
            "    Thu, 22 Aug 2002 07:18:55 -0400\n",
            "Received: from delta.cs.mu.OZ.AU (delta.coe.psu.ac.th [172.30.0.98]) by\n",
            "    ratree.psu.ac.th (8.11.6/8.11.6) with ESMTP id g7MBWel29762;\n",
            "    Thu, 22 Aug 2002 18:32:40 +0700 (ICT)\n",
            "Received: from munnari.OZ.AU (localhost [127.0.0.1]) by delta.cs.mu.OZ.AU\n",
            "    (8.11.6/8.11.6) with ESMTP id g7MBQPW13260; Thu, 22 Aug 2002 18:26:25\n",
            "    +0700 (ICT)\n",
            "From: Robert Elz <kre@munnari.OZ.AU>\n",
            "To: Chris Garrigues <cwg-dated-1030377287.06fa6d@DeepEddy.Com>\n",
            "Cc: exmh-workers@example.com\n",
            "Subject: Re: New Sequences Window\n",
            "In-Reply-To: <1029945287.4797.TMDA@deepeddy.vircio.com>\n",
            "References: <1029945287.4797.TMDA@deepeddy.vircio.com>\n",
            "    <1029882468.3116.TMDA@deepeddy.vircio.com> <9627.1029933001@munnari.OZ.AU>\n",
            "    <1029943066.26919.TMDA@deepeddy.vircio.com>\n",
            "    <1029944441.398.TMDA@deepeddy.vircio.com>\n",
            "MIME-Version: 1.0\n",
            "Content-Type: text/plain; charset=us-ascii\n",
            "Message-Id: <13258.1030015585@munnari.OZ.AU>\n",
            "X-Loop: exmh-workers@example.com\n",
            "Sender: exmh-workers-admin@example.com\n",
            "Errors-To: exmh-workers-admin@example.com\n",
            "X-Beenthere: exmh-workers@example.com\n",
            "X-Mailman-Version: 2.0.1\n",
            "Precedence: bulk\n",
            "List-Help: <mailto:exmh-workers-request@example.com?subject=help>\n",
            "List-Post: <mailto:exmh-workers@example.com>\n",
            "List-Subscribe: <https://listman.example.com/mailman/listinfo/exmh-workers>,\n",
            "    <mailto:exmh-workers-request@redhat.com?subject=subscribe>\n",
            "List-Id: Discussion list for EXMH developers <exmh-workers.example.com>\n",
            "List-Unsubscribe: <https://listman.example.com/mailman/listinfo/exmh-workers>,\n",
            "    <mailto:exmh-workers-request@redhat.com?subject=unsubscribe>\n",
            "List-Archive: <https://listman.example.com/mailman/private/exmh-workers/>\n",
            "Date: Thu, 22 Aug 2002 18:26:25 +0700\n",
            "\n",
            "    Date:        Wed, 21 Aug 2002 10:54:46 -0500\n",
            "    From:        Chris Garrigues <cwg-dated-1030377287.06fa6d@DeepEddy.Com>\n",
            "    Message-ID:  <1029945287.4797.TMDA@deepeddy.vircio.com>\n",
            "\n",
            "\n",
            "  | I can't reproduce this error.\n",
            "\n",
            "For me it is very repeatable... (like every time, without fail).\n",
            "\n",
            "This is the debug log of the pick happening ...\n",
            "\n",
            "18:19:03 Pick_It {exec pick +inbox -list -lbrace -lbrace -subject ftp -rbrace -rbrace} {4852-4852 -sequence mercury}\n",
            "18:19:03 exec pick +inbox -list -lbrace -lbrace -subject ftp -rbrace -rbrace 4852-4852 -sequence mercury\n",
            "18:19:04 Ftoc_PickMsgs {{1 hit}}\n",
            "18:19:04 Marking 1 hits\n",
            "18:19:04 tkerror: syntax error in expression \"int ...\n",
            "\n",
            "Note, if I run the pick command by hand ...\n",
            "\n",
            "delta$ pick +inbox -list -lbrace -lbrace -subject ftp -rbrace -rbrace  4852-4852 -sequence mercury\n",
            "1 hit\n",
            "\n",
            "That's where the \"1 hit\" comes from (obviously).  The version of nmh I'm\n",
            "using is ...\n",
            "\n",
            "delta$ pick -version\n",
            "pick -- nmh-1.0.4 [compiled on fuchsia.cs.mu.OZ.AU at Sun Mar 17 14:55:56 ICT 2002]\n",
            "\n",
            "And the relevant part of my .mh_profile ...\n",
            "\n",
            "delta$ mhparam pick\n",
            "-seq sel -list\n",
            "\n",
            "\n",
            "Since the pick command works, the sequence (actually, both of them, the\n",
            "one that's explicit on the command line, from the search popup, and the\n",
            "one that comes from .mh_profile) do get created.\n",
            "\n",
            "kre\n",
            "\n",
            "ps: this is still using the version of the code form a day ago, I haven't\n",
            "been able to reach the cvs repository today (local routing issue I think).\n",
            "\n",
            "\n",
            "\n",
            "_______________________________________________\n",
            "Exmh-workers mailing list\n",
            "Exmh-workers@redhat.com\n",
            "https://listman.redhat.com/mailman/listinfo/exmh-workers\n",
            "\n",
            "\n"
          ],
          "name": "stdout"
        }
      ]
    },
    {
      "cell_type": "code",
      "metadata": {
        "colab": {
          "base_uri": "https://localhost:8080/"
        },
        "id": "-D9MQOd-t0hi",
        "outputId": "780c333c-1847-4053-b058-c2309de1e4a3"
      },
      "source": [
        "print(spam_emails[0])"
      ],
      "execution_count": 100,
      "outputs": [
        {
          "output_type": "stream",
          "text": [
            "Return-Path: <ilug-admin@linux.ie>\n",
            "Delivered-To: yyyy@localhost.netnoteinc.com\n",
            "Received: from localhost (localhost [127.0.0.1])\n",
            "\tby phobos.labs.netnoteinc.com (Postfix) with ESMTP id 9E1F5441DD\n",
            "\tfor <jm@localhost>; Tue,  6 Aug 2002 06:48:09 -0400 (EDT)\n",
            "Received: from phobos [127.0.0.1]\n",
            "\tby localhost with IMAP (fetchmail-5.9.0)\n",
            "\tfor jm@localhost (single-drop); Tue, 06 Aug 2002 11:48:09 +0100 (IST)\n",
            "Received: from lugh.tuatha.org (root@lugh.tuatha.org [194.125.145.45]) by\n",
            "    dogma.slashnull.org (8.11.6/8.11.6) with ESMTP id g72LqWv13294 for\n",
            "    <jm-ilug@jmason.org>; Fri, 2 Aug 2002 22:52:32 +0100\n",
            "Received: from lugh (root@localhost [127.0.0.1]) by lugh.tuatha.org\n",
            "    (8.9.3/8.9.3) with ESMTP id WAA31224; Fri, 2 Aug 2002 22:50:17 +0100\n",
            "Received: from bettyjagessar.com (w142.z064000057.nyc-ny.dsl.cnc.net\n",
            "    [64.0.57.142]) by lugh.tuatha.org (8.9.3/8.9.3) with ESMTP id WAA31201 for\n",
            "    <ilug@linux.ie>; Fri, 2 Aug 2002 22:50:11 +0100\n",
            "X-Authentication-Warning: lugh.tuatha.org: Host\n",
            " w142.z064000057.nyc-ny.dsl.cnc.net    [64.0.57.142] claimed to be\n",
            " bettyjagessar.com\n",
            "Received: from 64.0.57.142 [202.63.165.34] by bettyjagessar.com\n",
            "    (SMTPD32-7.06 EVAL) id A42A7FC01F2; Fri, 02 Aug 2002 02:18:18 -0400\n",
            "Message-Id: <1028311679.886@0.57.142>\n",
            "Date: Fri, 02 Aug 2002 23:37:59 0530\n",
            "To: ilug@linux.ie\n",
            "From: \"Start Now\" <startnow2002@hotmail.com>\n",
            "MIME-Version: 1.0\n",
            "Content-Type: text/plain; charset=\"US-ASCII\"; format=flowed\n",
            "Subject: [ILUG] STOP THE MLM INSANITY\n",
            "Sender: ilug-admin@linux.ie\n",
            "Errors-To: ilug-admin@linux.ie\n",
            "X-Mailman-Version: 1.1\n",
            "Precedence: bulk\n",
            "List-Id: Irish Linux Users' Group <ilug.linux.ie>\n",
            "X-Beenthere: ilug@linux.ie\n",
            "\n",
            "Greetings!\n",
            "\n",
            "You are receiving this letter because you have expressed an interest in \n",
            "receiving information about online business opportunities. If this is \n",
            "erroneous then please accept my most sincere apology. This is a one-time \n",
            "mailing, so no removal is necessary.\n",
            "\n",
            "If you've been burned, betrayed, and back-stabbed by multi-level marketing, \n",
            "MLM, then please read this letter. It could be the most important one that \n",
            "has ever landed in your Inbox.\n",
            "\n",
            "MULTI-LEVEL MARKETING IS A HUGE MISTAKE FOR MOST PEOPLE\n",
            "\n",
            "MLM has failed to deliver on its promises for the past 50 years. The pursuit \n",
            "of the \"MLM Dream\" has cost hundreds of thousands of people their friends, \n",
            "their fortunes and their sacred honor. The fact is that MLM is fatally \n",
            "flawed, meaning that it CANNOT work for most people.\n",
            "\n",
            "The companies and the few who earn the big money in MLM are NOT going to \n",
            "tell you the real story. FINALLY, there is someone who has the courage to \n",
            "cut through the hype and lies and tell the TRUTH about MLM.\n",
            "\n",
            "HERE'S GOOD NEWS\n",
            "\n",
            "There IS an alternative to MLM that WORKS, and works BIG! If you haven't yet \n",
            "abandoned your dreams, then you need to see this. Earning the kind of income \n",
            "you've dreamed about is easier than you think!\n",
            "\n",
            "With your permission, I'd like to send you a brief letter that will tell you \n",
            "WHY MLM doesn't work for most people and will then introduce you to \n",
            "something so new and refreshing that you'll wonder why you haven't heard of \n",
            "this before.\n",
            "\n",
            "I promise that there will be NO unwanted follow up, NO sales pitch, no one \n",
            "will call you, and your email address will only be used to send you the \n",
            "information. Period.\n",
            "\n",
            "To receive this free, life-changing information, simply click Reply, type \n",
            "\"Send Info\" in the Subject box and hit Send. I'll get the information to you \n",
            "within 24 hours. Just look for the words MLM WALL OF SHAME in your Inbox.\n",
            "\n",
            "Cordially,\n",
            "\n",
            "Siddhi\n",
            "\n",
            "P.S. Someone recently sent the letter to me and it has been the most \n",
            "eye-opening, financially beneficial information I have ever received. I \n",
            "honestly believe that you will feel the same way once you've read it. And \n",
            "it's FREE!\n",
            "\n",
            "\n",
            "------------------------------------------------------------\n",
            "This email is NEVER sent unsolicited.  THIS IS NOT \"SPAM\". You are receiving \n",
            "this email because you EXPLICITLY signed yourself up to our list with our \n",
            "online signup form or through use of our FFA Links Page and E-MailDOM \n",
            "systems, which have EXPLICIT terms of use which state that through its use \n",
            "you agree to receive our emailings.  You may also be a member of a Altra \n",
            "Computer Systems list or one of many numerous FREE Marketing Services and as \n",
            "such you agreed when you signed up for such list that you would also be \n",
            "receiving this emailing.\n",
            "Due to the above, this email message cannot be considered unsolicitated, or \n",
            "spam.\n",
            "-----------------------------------------------------------\n",
            "\n",
            "\n",
            "\n",
            "\n",
            "-- \n",
            "Irish Linux Users' Group: ilug@linux.ie\n",
            "http://www.linux.ie/mailman/listinfo/ilug for (un)subscription information.\n",
            "List maintainer: listmaster@linux.ie\n",
            "\n",
            "\n",
            "\n"
          ],
          "name": "stdout"
        }
      ]
    },
    {
      "cell_type": "code",
      "metadata": {
        "colab": {
          "base_uri": "https://localhost:8080/"
        },
        "id": "TsY845Gst69W",
        "outputId": "39bd9c84-a5be-41fe-f731-cf382091ffff"
      },
      "source": [
        "\n",
        "for s in range(5) :\n",
        "  l=spam_emails[s][\"Subject\"]\n",
        "  print(l)\n",
        "print('------------------------------')\n",
        "for s in range(5) :\n",
        "  l=ham_emails[s][\"Subject\"]\n",
        "  print(l)\n"
      ],
      "execution_count": 101,
      "outputs": [
        {
          "output_type": "stream",
          "text": [
            "[ILUG] STOP THE MLM INSANITY\n",
            "Real Protection, Stun Guns!  Free Shipping! Time:2:01:35 PM\n",
            "New Improved Fat Burners, Now With TV Fat Absorbers! Time:6:25:49 PM\n",
            "New Improved Fat Burners, Now With TV Fat Absorbers! Time:7:20:54 AM\n",
            "Never Repay Cash Grants, $500 - $50,000, Secret Revealed!\n",
            "------------------------------\n",
            "Re: New Sequences Window\n",
            "[zzzzteana] RE: Alexander\n",
            "[zzzzteana] Moscow bomber\n",
            "[IRR] Klez: The Virus That  Won't Die\n",
            "Re: Insert signature\n"
          ],
          "name": "stdout"
        }
      ]
    },
    {
      "cell_type": "code",
      "metadata": {
        "id": "kM74cU56yqNR"
      },
      "source": [
        "#convert to numpy array \n",
        "import numpy as np\n",
        "spam=np.array(spam_emails, dtype=object)\n",
        "ham=np.array(ham_emails, dtype=object)\n"
      ],
      "execution_count": 102,
      "outputs": []
    },
    {
      "cell_type": "code",
      "metadata": {
        "colab": {
          "base_uri": "https://localhost:8080/"
        },
        "id": "qWW4LdUEzOem",
        "outputId": "ed85a67c-e88c-42b4-a888-65e47e0e66d2"
      },
      "source": [
        "print(spam.shape)\n",
        "print(ham.shape)"
      ],
      "execution_count": 103,
      "outputs": [
        {
          "output_type": "stream",
          "text": [
            "(1396,)\n",
            "(2551,)\n"
          ],
          "name": "stdout"
        }
      ]
    },
    {
      "cell_type": "code",
      "metadata": {
        "colab": {
          "base_uri": "https://localhost:8080/"
        },
        "id": "9YMN3KA9zl_Y",
        "outputId": "866b39f8-a2aa-41ad-9e03-e8611b4b77d9"
      },
      "source": [
        "X=np.concatenate((ham, spam), axis=0)\n",
        "X.shape"
      ],
      "execution_count": 110,
      "outputs": [
        {
          "output_type": "execute_result",
          "data": {
            "text/plain": [
              "(3947,)"
            ]
          },
          "metadata": {
            "tags": []
          },
          "execution_count": 110
        }
      ]
    },
    {
      "cell_type": "code",
      "metadata": {
        "id": "3fgtdpmr06Pi"
      },
      "source": [
        "#first 2551 are 0s ham \n",
        "#last 1396 are 1s spam \n",
        "y=np.array([0]*len(ham)+[1]*len(spam))"
      ],
      "execution_count": 112,
      "outputs": []
    },
    {
      "cell_type": "code",
      "metadata": {
        "colab": {
          "base_uri": "https://localhost:8080/"
        },
        "id": "C2kEa3z31ula",
        "outputId": "9cf04a1f-d7d4-4d14-feee-9876d421e4e2"
      },
      "source": [
        "y.shape"
      ],
      "execution_count": 113,
      "outputs": [
        {
          "output_type": "execute_result",
          "data": {
            "text/plain": [
              "(3947,)"
            ]
          },
          "metadata": {
            "tags": []
          },
          "execution_count": 113
        }
      ]
    },
    {
      "cell_type": "code",
      "metadata": {
        "colab": {
          "base_uri": "https://localhost:8080/"
        },
        "id": "K0tZFf0q1xB7",
        "outputId": "feaf2d64-ab13-4a7a-907d-9b27d847e9ff"
      },
      "source": [
        "X_train, X_test, y_train, y_test = train_test_split(X, y, test_size=0.2, random_state=42)\n",
        "print(\"Train Size : \",len(X_train))\n",
        "print(\"Test Size : \",len(X_test))"
      ],
      "execution_count": 114,
      "outputs": [
        {
          "output_type": "stream",
          "text": [
            "Train Size :  3157\n",
            "Test Size :  790\n"
          ],
          "name": "stdout"
        }
      ]
    }
  ]
}