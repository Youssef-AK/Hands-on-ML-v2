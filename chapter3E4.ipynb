{
  "nbformat": 4,
  "nbformat_minor": 0,
  "metadata": {
    "colab": {
      "name": "chapter3E4.ipynb",
      "provenance": [],
      "authorship_tag": "ABX9TyP1k92t/8PHws+RfmAMhUse",
      "include_colab_link": true
    },
    "kernelspec": {
      "name": "python3",
      "display_name": "Python 3"
    },
    "language_info": {
      "name": "python"
    }
  },
  "cells": [
    {
      "cell_type": "markdown",
      "metadata": {
        "id": "view-in-github",
        "colab_type": "text"
      },
      "source": [
        "<a href=\"https://colab.research.google.com/github/Youssef-AK/Hands-on-ML-v2/blob/main/chapter3E4.ipynb\" target=\"_parent\"><img src=\"https://colab.research.google.com/assets/colab-badge.svg\" alt=\"Open In Colab\"/></a>"
      ]
    },
    {
      "cell_type": "markdown",
      "metadata": {
        "id": "6v74wAZID1ii"
      },
      "source": [
        "## 4. Spam classifier"
      ]
    },
    {
      "cell_type": "code",
      "metadata": {
        "id": "ivWsREF4TSjh"
      },
      "source": [
        "import os\n",
        "import tarfile\n",
        "import urllib.request\n",
        "DOWNLOAD_ROOT = \"http://spamassassin.apache.org/old/publiccorpus/\"\n",
        "HAM_URL = DOWNLOAD_ROOT + \"20030228_easy_ham.tar.bz2\"\n",
        "SPAM_URL = DOWNLOAD_ROOT + \"20030228_spam.tar.bz2\"\n",
        "SPAM_PATH = os.path.join(\"datasets\", \"spam\")\n",
        "\n",
        "def fetch_spam_data(ham_url=HAM_URL, spam_url=SPAM_URL, spam_path=SPAM_PATH):\n",
        "    if not os.path.isdir(spam_path):\n",
        "        os.makedirs(spam_path)\n",
        "    for filename, url in ((\"ham.tar.bz2\", ham_url), (\"spam.tar.bz2\", spam_url)):\n",
        "        path = os.path.join(spam_path, filename)\n",
        "        if not os.path.isfile(path):\n",
        "            urllib.request.urlretrieve(url, path)\n",
        "        tar_bz2_file = tarfile.open(path)\n",
        "        tar_bz2_file.extractall(path=spam_path)\n",
        "        tar_bz2_file.close()"
      ],
      "execution_count": null,
      "outputs": []
    },
    {
      "cell_type": "code",
      "metadata": {
        "id": "WSDxU6nkhoXo"
      },
      "source": [
        "fetch_spam_data()"
      ],
      "execution_count": null,
      "outputs": []
    },
    {
      "cell_type": "code",
      "metadata": {
        "id": "8RNdOSTEhx5I"
      },
      "source": [
        "HAM_DIR = os.path.join(SPAM_PATH, \"easy_ham\")\n",
        "SPAM_DIR = os.path.join(SPAM_PATH, \"spam\")\n",
        "ham_filenames = [name for name in sorted(os.listdir(HAM_DIR)) if len(name) > 20] # list \n",
        "spam_filenames = [name for name in sorted(os.listdir(SPAM_DIR)) if len(name) > 20] # list"
      ],
      "execution_count": null,
      "outputs": []
    },
    {
      "cell_type": "code",
      "metadata": {
        "colab": {
          "base_uri": "https://localhost:8080/"
        },
        "id": "4y9IesJUns5S",
        "outputId": "9bba84e7-dd56-43a5-cd1d-ebdc63f12b71"
      },
      "source": [
        "# أسماء الملفات \n",
        "print(\"ham : \",len(ham_filenames))\n",
        "print(\"spam : \",len(spam_filenames))"
      ],
      "execution_count": null,
      "outputs": [
        {
          "output_type": "stream",
          "text": [
            "ham :  2500\n",
            "spam :  500\n"
          ],
          "name": "stdout"
        }
      ]
    },
    {
      "cell_type": "code",
      "metadata": {
        "id": "T8mg2Bp_r9DJ"
      },
      "source": [
        "import email\n",
        "import email.policy\n",
        "\n",
        "def load_email(is_spam, filename, spam_path=SPAM_PATH):\n",
        "    directory = \"spam\" if is_spam else \"easy_ham\"\n",
        "    with open(os.path.join(spam_path, directory, filename), \"rb\") as f:\n",
        "        return email.parser.BytesParser(policy=email.policy.default).parse(f)"
      ],
      "execution_count": null,
      "outputs": []
    },
    {
      "cell_type": "code",
      "metadata": {
        "id": "t_GkEM-GsOZo"
      },
      "source": [
        "ham_emails = [load_email(is_spam=False, filename=name) for name in ham_filenames] #list\n",
        "spam_emails = [load_email(is_spam=True, filename=name) for name in spam_filenames] # list"
      ],
      "execution_count": null,
      "outputs": []
    },
    {
      "cell_type": "code",
      "metadata": {
        "colab": {
          "base_uri": "https://localhost:8080/"
        },
        "id": "QYWUDie6tgYG",
        "outputId": "2b3f04df-30f5-40c6-b266-93aa889dbd79"
      },
      "source": [
        "print(ham_emails[0])"
      ],
      "execution_count": null,
      "outputs": [
        {
          "output_type": "stream",
          "text": [
            "Return-Path: <exmh-workers-admin@spamassassin.taint.org>\n",
            "Delivered-To: zzzz@localhost.netnoteinc.com\n",
            "Received: from localhost (localhost [127.0.0.1])\n",
            "\tby phobos.labs.netnoteinc.com (Postfix) with ESMTP id D03E543C36\n",
            "\tfor <zzzz@localhost>; Thu, 22 Aug 2002 07:36:16 -0400 (EDT)\n",
            "Received: from phobos [127.0.0.1]\n",
            "\tby localhost with IMAP (fetchmail-5.9.0)\n",
            "\tfor zzzz@localhost (single-drop); Thu, 22 Aug 2002 12:36:16 +0100 (IST)\n",
            "Received: from listman.spamassassin.taint.org (listman.spamassassin.taint.org\n",
            " [66.187.233.211]) by    dogma.slashnull.org (8.11.6/8.11.6) with ESMTP id\n",
            " g7MBYrZ04811 for    <zzzz-exmh@spamassassin.taint.org>; Thu, 22 Aug 2002\n",
            " 12:34:53 +0100\n",
            "Received: from listman.spamassassin.taint.org (localhost.localdomain\n",
            " [127.0.0.1]) by    listman.redhat.com (Postfix) with ESMTP id 8386540858;\n",
            " Thu, 22 Aug 2002    07:35:02 -0400 (EDT)\n",
            "Delivered-To: exmh-workers@listman.spamassassin.taint.org\n",
            "Received: from int-mx1.corp.spamassassin.taint.org\n",
            " (int-mx1.corp.spamassassin.taint.org    [172.16.52.254]) by\n",
            " listman.redhat.com (Postfix) with ESMTP id 10CF8406D7    for\n",
            " <exmh-workers@listman.redhat.com>; Thu, 22 Aug 2002 07:34:10 -0400    (EDT)\n",
            "Received: (from mail@localhost) by int-mx1.corp.spamassassin.taint.org\n",
            " (8.11.6/8.11.6)    id g7MBY7g11259 for exmh-workers@listman.redhat.com; Thu,\n",
            " 22 Aug 2002    07:34:07 -0400\n",
            "Received: from mx1.spamassassin.taint.org (mx1.spamassassin.taint.org\n",
            " [172.16.48.31]) by    int-mx1.corp.redhat.com (8.11.6/8.11.6) with SMTP id\n",
            " g7MBY7Y11255 for    <exmh-workers@redhat.com>; Thu, 22 Aug 2002 07:34:07\n",
            " -0400\n",
            "Received: from ratree.psu.ac.th ([202.28.97.6]) by mx1.spamassassin.taint.org\n",
            "    (8.11.6/8.11.6) with SMTP id g7MBIhl25223 for <exmh-workers@redhat.com>;\n",
            "    Thu, 22 Aug 2002 07:18:55 -0400\n",
            "Received: from delta.cs.mu.OZ.AU (delta.coe.psu.ac.th [172.30.0.98]) by\n",
            "    ratree.psu.ac.th (8.11.6/8.11.6) with ESMTP id g7MBWel29762;\n",
            "    Thu, 22 Aug 2002 18:32:40 +0700 (ICT)\n",
            "Received: from munnari.OZ.AU (localhost [127.0.0.1]) by delta.cs.mu.OZ.AU\n",
            "    (8.11.6/8.11.6) with ESMTP id g7MBQPW13260; Thu, 22 Aug 2002 18:26:25\n",
            "    +0700 (ICT)\n",
            "From: Robert Elz <kre@munnari.OZ.AU>\n",
            "To: Chris Garrigues <cwg-dated-1030377287.06fa6d@DeepEddy.Com>\n",
            "Cc: exmh-workers@spamassassin.taint.org\n",
            "Subject: Re: New Sequences Window\n",
            "In-Reply-To: <1029945287.4797.TMDA@deepeddy.vircio.com>\n",
            "References: <1029945287.4797.TMDA@deepeddy.vircio.com>\n",
            "    <1029882468.3116.TMDA@deepeddy.vircio.com> <9627.1029933001@munnari.OZ.AU>\n",
            "    <1029943066.26919.TMDA@deepeddy.vircio.com>\n",
            "    <1029944441.398.TMDA@deepeddy.vircio.com>\n",
            "MIME-Version: 1.0\n",
            "Content-Type: text/plain; charset=us-ascii\n",
            "Message-Id: <13258.1030015585@munnari.OZ.AU>\n",
            "X-Loop: exmh-workers@spamassassin.taint.org\n",
            "Sender: exmh-workers-admin@spamassassin.taint.org\n",
            "Errors-To: exmh-workers-admin@spamassassin.taint.org\n",
            "X-Beenthere: exmh-workers@spamassassin.taint.org\n",
            "X-Mailman-Version: 2.0.1\n",
            "Precedence: bulk\n",
            "List-Help: <mailto:exmh-workers-request@spamassassin.taint.org?subject=help>\n",
            "List-Post: <mailto:exmh-workers@spamassassin.taint.org>\n",
            "List-Subscribe:\n",
            " <https://listman.spamassassin.taint.org/mailman/listinfo/exmh-workers>,   \n",
            " <mailto:exmh-workers-request@redhat.com?subject=subscribe>\n",
            "List-Id:\n",
            " Discussion list for EXMH developers <exmh-workers.spamassassin.taint.org>\n",
            "List-Unsubscribe:\n",
            " <https://listman.spamassassin.taint.org/mailman/listinfo/exmh-workers>,   \n",
            " <mailto:exmh-workers-request@redhat.com?subject=unsubscribe>\n",
            "List-Archive:\n",
            " <https://listman.spamassassin.taint.org/mailman/private/exmh-workers/>\n",
            "Date: Thu, 22 Aug 2002 18:26:25 +0700\n",
            "\n",
            "    Date:        Wed, 21 Aug 2002 10:54:46 -0500\n",
            "    From:        Chris Garrigues <cwg-dated-1030377287.06fa6d@DeepEddy.Com>\n",
            "    Message-ID:  <1029945287.4797.TMDA@deepeddy.vircio.com>\n",
            "\n",
            "\n",
            "  | I can't reproduce this error.\n",
            "\n",
            "For me it is very repeatable... (like every time, without fail).\n",
            "\n",
            "This is the debug log of the pick happening ...\n",
            "\n",
            "18:19:03 Pick_It {exec pick +inbox -list -lbrace -lbrace -subject ftp -rbrace -rbrace} {4852-4852 -sequence mercury}\n",
            "18:19:03 exec pick +inbox -list -lbrace -lbrace -subject ftp -rbrace -rbrace 4852-4852 -sequence mercury\n",
            "18:19:04 Ftoc_PickMsgs {{1 hit}}\n",
            "18:19:04 Marking 1 hits\n",
            "18:19:04 tkerror: syntax error in expression \"int ...\n",
            "\n",
            "Note, if I run the pick command by hand ...\n",
            "\n",
            "delta$ pick +inbox -list -lbrace -lbrace -subject ftp -rbrace -rbrace  4852-4852 -sequence mercury\n",
            "1 hit\n",
            "\n",
            "That's where the \"1 hit\" comes from (obviously).  The version of nmh I'm\n",
            "using is ...\n",
            "\n",
            "delta$ pick -version\n",
            "pick -- nmh-1.0.4 [compiled on fuchsia.cs.mu.OZ.AU at Sun Mar 17 14:55:56 ICT 2002]\n",
            "\n",
            "And the relevant part of my .mh_profile ...\n",
            "\n",
            "delta$ mhparam pick\n",
            "-seq sel -list\n",
            "\n",
            "\n",
            "Since the pick command works, the sequence (actually, both of them, the\n",
            "one that's explicit on the command line, from the search popup, and the\n",
            "one that comes from .mh_profile) do get created.\n",
            "\n",
            "kre\n",
            "\n",
            "ps: this is still using the version of the code form a day ago, I haven't\n",
            "been able to reach the cvs repository today (local routing issue I think).\n",
            "\n",
            "\n",
            "\n",
            "_______________________________________________\n",
            "Exmh-workers mailing list\n",
            "Exmh-workers@redhat.com\n",
            "https://listman.redhat.com/mailman/listinfo/exmh-workers\n",
            "\n",
            "\n"
          ],
          "name": "stdout"
        }
      ]
    },
    {
      "cell_type": "code",
      "metadata": {
        "colab": {
          "base_uri": "https://localhost:8080/"
        },
        "id": "-D9MQOd-t0hi",
        "outputId": "e0dd445c-27bc-452e-b787-ff4737ff7e28"
      },
      "source": [
        "print(spam_emails[0])"
      ],
      "execution_count": null,
      "outputs": [
        {
          "output_type": "stream",
          "text": [
            "Return-Path: <12a1mailbot1@web.de>\n",
            "Delivered-To: zzzz@localhost.spamassassin.taint.org\n",
            "Received: from localhost (localhost [127.0.0.1])\n",
            "\tby phobos.labs.spamassassin.taint.org (Postfix) with ESMTP id 136B943C32\n",
            "\tfor <zzzz@localhost>; Thu, 22 Aug 2002 08:17:21 -0400 (EDT)\n",
            "Received: from mail.webnote.net [193.120.211.219]\n",
            "\tby localhost with POP3 (fetchmail-5.9.0)\n",
            "\tfor zzzz@localhost (single-drop); Thu, 22 Aug 2002 13:17:21 +0100 (IST)\n",
            "Received: from dd_it7 ([210.97.77.167])\n",
            "\tby webnote.net (8.9.3/8.9.3) with ESMTP id NAA04623\n",
            "\tfor <zzzz@spamassassin.taint.org>; Thu, 22 Aug 2002 13:09:41 +0100\n",
            "From: 12a1mailbot1@web.de\n",
            "Received: from r-smtp.korea.com - 203.122.2.197 by dd_it7  with Microsoft\n",
            " SMTPSVC(5.5.1775.675.6);\t Sat, 24 Aug 2002 09:42:10 +0900\n",
            "To: <dcek1a1@netsgo.com>\n",
            "Subject: Life Insurance - Why Pay More?\n",
            "Date: Wed, 21 Aug 2002 20:31:57 -1600\n",
            "MIME-Version: 1.0\n",
            "Message-ID: <0103c1042001882DD_IT7@dd_it7>\n",
            "Content-Type: text/html; charset=\"iso-8859-1\"\n",
            "Content-Transfer-Encoding: quoted-printable\n",
            "\n",
            "<!DOCTYPE HTML PUBLIC \"-//W3C//DTD HTML 4.0 Transitional//EN\">\n",
            "<HTML><HEAD>\n",
            "<META content=3D\"text/html; charset=3Dwindows-1252\" http-equiv=3DContent-T=\n",
            "ype>\n",
            "<META content=3D\"MSHTML 5.00.2314.1000\" name=3DGENERATOR></HEAD>\n",
            "<BODY><!-- Inserted by Calypso -->\n",
            "<TABLE border=3D0 cellPadding=3D0 cellSpacing=3D2 id=3D_CalyPrintHeader_ r=\n",
            "ules=3Dnone \n",
            "style=3D\"COLOR: black; DISPLAY: none\" width=3D\"100%\">\n",
            "  <TBODY>\n",
            "  <TR>\n",
            "    <TD colSpan=3D3>\n",
            "      <HR color=3Dblack noShade SIZE=3D1>\n",
            "    </TD></TR></TD></TR>\n",
            "  <TR>\n",
            "    <TD colSpan=3D3>\n",
            "      <HR color=3Dblack noShade SIZE=3D1>\n",
            "    </TD></TR></TBODY></TABLE><!-- End Calypso --><!-- Inserted by Calypso=\n",
            " --><FONT \n",
            "color=3D#000000 face=3DVERDANA,ARIAL,HELVETICA size=3D-2><BR></FONT></TD><=\n",
            "/TR></TABLE><!-- End Calypso --><FONT color=3D#ff0000 \n",
            "face=3D\"Copperplate Gothic Bold\" size=3D5 PTSIZE=3D\"10\">\n",
            "<CENTER>Save up to 70% on Life Insurance.</CENTER></FONT><FONT color=3D#ff=\n",
            "0000 \n",
            "face=3D\"Copperplate Gothic Bold\" size=3D5 PTSIZE=3D\"10\">\n",
            "<CENTER>Why Spend More Than You Have To?\n",
            "<CENTER><FONT color=3D#ff0000 face=3D\"Copperplate Gothic Bold\" size=3D5 PT=\n",
            "SIZE=3D\"10\">\n",
            "<CENTER>Life Quote Savings\n",
            "<CENTER>\n",
            "<P align=3Dleft></P>\n",
            "<P align=3Dleft></P></FONT></U></I></B><BR></FONT></U></B></U></I>\n",
            "<P></P>\n",
            "<CENTER>\n",
            "<TABLE border=3D0 borderColor=3D#111111 cellPadding=3D0 cellSpacing=3D0 wi=\n",
            "dth=3D650>\n",
            "  <TBODY></TBODY></TABLE>\n",
            "<TABLE border=3D0 borderColor=3D#111111 cellPadding=3D5 cellSpacing=3D0 wi=\n",
            "dth=3D650>\n",
            "  <TBODY>\n",
            "  <TR>\n",
            "    <TD colSpan=3D2 width=3D\"35%\"><B><FONT face=3DVerdana size=3D4>Ensurin=\n",
            "g your \n",
            "      family's financial security is very important. Life Quote Savings ma=\n",
            "kes \n",
            "      buying life insurance simple and affordable. We Provide FREE Access =\n",
            "to The \n",
            "      Very Best Companies and The Lowest Rates.</FONT></B></TD></TR>\n",
            "  <TR>\n",
            "    <TD align=3Dmiddle vAlign=3Dtop width=3D\"18%\">\n",
            "      <TABLE borderColor=3D#111111 width=3D\"100%\">\n",
            "        <TBODY>\n",
            "        <TR>\n",
            "          <TD style=3D\"PADDING-LEFT: 5px; PADDING-RIGHT: 5px\" width=3D\"100=\n",
            "%\"><FONT \n",
            "            face=3DVerdana size=3D4><B>Life Quote Savings</B> is FAST, EAS=\n",
            "Y and \n",
            "            SAVES you money! Let us help you get started with the best val=\n",
            "ues in \n",
            "            the country on new coverage. You can SAVE hundreds or even tho=\n",
            "usands \n",
            "            of dollars by requesting a FREE quote from Lifequote Savings. =\n",
            "Our \n",
            "            service will take you less than 5 minutes to complete. Shop an=\n",
            "d \n",
            "            compare. SAVE up to 70% on all types of Life insurance! \n",
            "</FONT></TD></TR>\n",
            "        <TR><BR><BR>\n",
            "          <TD height=3D50 style=3D\"PADDING-LEFT: 5px; PADDING-RIGHT: 5px\" \n",
            "          width=3D\"100%\">\n",
            "            <P align=3Dcenter><B><FONT face=3DVerdana size=3D5><A \n",
            "            href=3D\"http://website.e365.cc/savequote/\">Click Here For Your=\n",
            " \n",
            "            Free Quote!</A></FONT></B></P></TD>\n",
            "          <P><FONT face=3DVerdana size=3D4><STRONG>\n",
            "          <CENTER>Protecting your family is the best investment you'll eve=\n",
            "r \n",
            "          make!<BR></B></TD></TR>\n",
            "        <TR><BR><BR></STRONG></FONT></TD></TR></TD></TR>\n",
            "        <TR></TR></TBODY></TABLE>\n",
            "      <P align=3Dleft><FONT face=3D\"Arial, Helvetica, sans-serif\" size=3D2=\n",
            "></FONT></P>\n",
            "      <P></P>\n",
            "      <CENTER><BR><BR><BR>\n",
            "      <P></P>\n",
            "      <P align=3Dleft><BR></B><BR><BR><BR><BR></P>\n",
            "      <P align=3Dcenter><BR></P>\n",
            "      <P align=3Dleft><BR></B><BR><BR></FONT>If you are in receipt of this=\n",
            " email \n",
            "      in error and/or wish to be removed from our list, <A \n",
            "      href=3D\"mailto:coins@btamail.net.cn\">PLEASE CLICK HERE</A> AND TYPE =\n",
            "REMOVE. If you \n",
            "      reside in any state which prohibits e-mail solicitations for insuran=\n",
            "ce, \n",
            "      please disregard this \n",
            "      email.<BR></FONT><BR><BR><BR><BR><BR><BR><BR><BR><BR><BR><BR><BR><BR=\n",
            "><BR><BR><BR></FONT></P></CENTER></CENTER></TR></TBODY></TABLE></CENTER></=\n",
            "CENTER></CENTER></CENTER></CENTER></BODY></HTML>\n",
            "\n",
            "\n",
            "\n",
            "\n"
          ],
          "name": "stdout"
        }
      ]
    },
    {
      "cell_type": "code",
      "metadata": {
        "colab": {
          "base_uri": "https://localhost:8080/"
        },
        "id": "TsY845Gst69W",
        "outputId": "8d1a344a-9797-4673-bafc-91dd14063bb9"
      },
      "source": [
        "\n",
        "for s in range(5) :\n",
        "  l=spam_emails[s][\"Subject\"]\n",
        "  print(l)\n",
        "print('------------------------------')\n",
        "for s in range(5) :\n",
        "  l=ham_emails[s][\"Subject\"]\n",
        "  print(l)\n"
      ],
      "execution_count": null,
      "outputs": [
        {
          "output_type": "stream",
          "text": [
            "Life Insurance - Why Pay More?\n",
            "[ILUG] Guaranteed to lose 10-12 lbs in 30 days 10.206\n",
            "Guaranteed to lose 10-12 lbs in 30 days                          11.150\n",
            "Re: Fw: User Name & Password to Membership To 5 Sites zzzz@spamassassin.taint.org pviqg\n",
            "[ILUG-Social] re: Guaranteed to lose 10-12 lbs in 30 days 10.148\n",
            "------------------------------\n",
            "Re: New Sequences Window\n",
            "[zzzzteana] RE: Alexander\n",
            "[zzzzteana] Moscow bomber\n",
            "[IRR] Klez: The Virus That  Won't Die\n",
            "Re: [zzzzteana] Nothing like mama used to make\n"
          ],
          "name": "stdout"
        }
      ]
    },
    {
      "cell_type": "code",
      "metadata": {
        "id": "kM74cU56yqNR"
      },
      "source": [
        "#convert to numpy array \n",
        "import numpy as np\n",
        "spam=np.array(spam_emails, dtype=object)\n",
        "ham=np.array(ham_emails, dtype=object)\n"
      ],
      "execution_count": null,
      "outputs": []
    },
    {
      "cell_type": "code",
      "metadata": {
        "colab": {
          "base_uri": "https://localhost:8080/"
        },
        "id": "qWW4LdUEzOem",
        "outputId": "e0e0acf8-2c71-4cc5-e04f-0f616c1e8ab5"
      },
      "source": [
        "print(spam.shape)\n",
        "print(ham.shape)"
      ],
      "execution_count": null,
      "outputs": [
        {
          "output_type": "stream",
          "text": [
            "(500,)\n",
            "(2500,)\n"
          ],
          "name": "stdout"
        }
      ]
    },
    {
      "cell_type": "code",
      "metadata": {
        "colab": {
          "base_uri": "https://localhost:8080/"
        },
        "id": "9YMN3KA9zl_Y",
        "outputId": "fd891e4e-5cbb-43f2-c2aa-22b187b3048c"
      },
      "source": [
        "X=np.concatenate((ham, spam), axis=0)\n",
        "X.shape"
      ],
      "execution_count": null,
      "outputs": [
        {
          "output_type": "execute_result",
          "data": {
            "text/plain": [
              "(3000,)"
            ]
          },
          "metadata": {
            "tags": []
          },
          "execution_count": 12
        }
      ]
    },
    {
      "cell_type": "code",
      "metadata": {
        "id": "3fgtdpmr06Pi"
      },
      "source": [
        "#first 2551 are 0s ham \n",
        "#last 1396 are 1s spam \n",
        "y=np.array([0]*len(ham)+[1]*len(spam))"
      ],
      "execution_count": null,
      "outputs": []
    },
    {
      "cell_type": "code",
      "metadata": {
        "colab": {
          "base_uri": "https://localhost:8080/"
        },
        "id": "C2kEa3z31ula",
        "outputId": "560bc045-54a5-44a1-928f-b40c8ddb9b88"
      },
      "source": [
        "y.shape"
      ],
      "execution_count": null,
      "outputs": [
        {
          "output_type": "execute_result",
          "data": {
            "text/plain": [
              "(3000,)"
            ]
          },
          "metadata": {
            "tags": []
          },
          "execution_count": 14
        }
      ]
    },
    {
      "cell_type": "code",
      "metadata": {
        "colab": {
          "base_uri": "https://localhost:8080/"
        },
        "id": "K0tZFf0q1xB7",
        "outputId": "d36c21ed-9206-4221-d23a-a976a4a34d96"
      },
      "source": [
        "from sklearn.model_selection import train_test_split\n",
        "X_train, X_test, y_train, y_test = train_test_split(X, y, test_size=0.2, random_state=42)\n",
        "print(\"Train Size : \",len(X_train))\n",
        "print(\"Test Size : \",len(X_test))"
      ],
      "execution_count": null,
      "outputs": [
        {
          "output_type": "stream",
          "text": [
            "Train Size :  2400\n",
            "Test Size :  600\n"
          ],
          "name": "stdout"
        }
      ]
    },
    {
      "cell_type": "code",
      "metadata": {
        "colab": {
          "base_uri": "https://localhost:8080/"
        },
        "id": "eyov6asUIP_2",
        "outputId": "f0478385-2ee6-4ef3-ce57-c48f481ebca1"
      },
      "source": [
        "sample_html_spam = spam_emails[0]\n",
        "print(sample_html_spam.get_content().strip()[:500], \"...\")\n"
      ],
      "execution_count": null,
      "outputs": [
        {
          "output_type": "stream",
          "text": [
            "<!DOCTYPE HTML PUBLIC \"-//W3C//DTD HTML 4.0 Transitional//EN\">\n",
            "<HTML><HEAD>\n",
            "<META content=\"text/html; charset=windows-1252\" http-equiv=Content-Type>\n",
            "<META content=\"MSHTML 5.00.2314.1000\" name=GENERATOR></HEAD>\n",
            "<BODY><!-- Inserted by Calypso -->\n",
            "<TABLE border=0 cellPadding=0 cellSpacing=2 id=_CalyPrintHeader_ rules=none \n",
            "style=\"COLOR: black; DISPLAY: none\" width=\"100%\">\n",
            "  <TBODY>\n",
            "  <TR>\n",
            "    <TD colSpan=3>\n",
            "      <HR color=black noShade SIZE=1>\n",
            "    </TD></TR></TD></TR>\n",
            "  <TR>\n",
            "    <TD colSpan=3>\n",
            "    ...\n"
          ],
          "name": "stdout"
        }
      ]
    },
    {
      "cell_type": "markdown",
      "metadata": {
        "id": "7ZLBRF5gG7NZ"
      },
      "source": [
        "From The Book : Used  hepler method : \n",
        "\n",
        "\n",
        "> 1: To Convert HTML to Text .\n",
        "\n",
        "\n",
        "\n",
        "\n",
        "> 2: To Convert All Emails to Text .\n",
        "\n"
      ]
    },
    {
      "cell_type": "code",
      "metadata": {
        "id": "xRQIKmijSoVF"
      },
      "source": [
        "import re\n",
        "from html import unescape\n",
        "\n",
        "def html_to_plain_text(html):\n",
        "    text = re.sub('<head.*?>.*?</head>', '', html, flags=re.M | re.S | re.I)\n",
        "    text = re.sub('<a\\s.*?>', ' HYPERLINK ', text, flags=re.M | re.S | re.I)\n",
        "    text = re.sub('<.*?>', '', text, flags=re.M | re.S)\n",
        "    text = re.sub(r'(\\s*\\n)+', '\\n', text, flags=re.M | re.S)\n",
        "    return unescape(text)\n",
        "def email_to_text(email):\n",
        "    html = None\n",
        "    for part in email.walk():\n",
        "        ctype = part.get_content_type()\n",
        "        if not ctype in (\"text/plain\", \"text/html\"):\n",
        "            continue\n",
        "        try:\n",
        "            content = part.get_content()\n",
        "        except: # in case of encoding issues\n",
        "            content = str(part.get_payload())\n",
        "        if ctype == \"text/plain\":\n",
        "            return content\n",
        "        else:\n",
        "            html = content\n",
        "    if html:\n",
        "        return html_to_plain_text(html)"
      ],
      "execution_count": null,
      "outputs": []
    },
    {
      "cell_type": "code",
      "metadata": {
        "colab": {
          "base_uri": "https://localhost:8080/"
        },
        "id": "fvRlaDC7IwjV",
        "outputId": "e5b02ca5-abe5-483c-f4ba-298ceddf8c1a"
      },
      "source": [
        "print(email_to_text(sample_html_spam)[:100])"
      ],
      "execution_count": null,
      "outputs": [
        {
          "output_type": "stream",
          "text": [
            "\n",
            "Save up to 70% on Life Insurance.\n",
            "Why Spend More Than You Have To?\n",
            "Life Quote Savings\n",
            "    Ensuring \n"
          ],
          "name": "stdout"
        }
      ]
    },
    {
      "cell_type": "code",
      "metadata": {
        "colab": {
          "base_uri": "https://localhost:8080/"
        },
        "id": "H9sG8Ne-KpuN",
        "outputId": "19222997-a328-404e-dd1d-8e4d629fb36c"
      },
      "source": [
        "print(html_to_plain_text(sample_html_spam.get_content())[:100], \"...\")"
      ],
      "execution_count": null,
      "outputs": [
        {
          "output_type": "stream",
          "text": [
            "\n",
            "Save up to 70% on Life Insurance.\n",
            "Why Spend More Than You Have To?\n",
            "Life Quote Savings\n",
            "    Ensuring  ...\n"
          ],
          "name": "stdout"
        }
      ]
    },
    {
      "cell_type": "code",
      "metadata": {
        "id": "lp4qai3wA_yr"
      },
      "source": [
        "!pip install -q -U urlextract"
      ],
      "execution_count": null,
      "outputs": []
    },
    {
      "cell_type": "code",
      "metadata": {
        "colab": {
          "base_uri": "https://localhost:8080/"
        },
        "id": "H8JfFvFEChx1",
        "outputId": "4e46e5da-cae1-4b9a-c831-7d9c060819ca"
      },
      "source": [
        "try:\n",
        "    import nltk\n",
        "\n",
        "    stemmer = nltk.PorterStemmer()\n",
        "    for word in (\"Computations\", \"Computation\", \"Computing\", \"Computed\", \"Compute\", \"Compulsive\"):\n",
        "        print(word, \"=>\", stemmer.stem(word))\n",
        "except ImportError:\n",
        "    print(\"Error: stemming requires the NLTK module.\")\n",
        "    stemmer = None"
      ],
      "execution_count": null,
      "outputs": [
        {
          "output_type": "stream",
          "text": [
            "Computations => comput\n",
            "Computation => comput\n",
            "Computing => comput\n",
            "Computed => comput\n",
            "Compute => comput\n",
            "Compulsive => compuls\n"
          ],
          "name": "stdout"
        }
      ]
    },
    {
      "cell_type": "code",
      "metadata": {
        "colab": {
          "base_uri": "https://localhost:8080/"
        },
        "id": "Yc4eSf7lBLxg",
        "outputId": "b2de018f-4e5c-460e-b509-1057a05e6f39"
      },
      "source": [
        "try:\n",
        "    import urlextract # may require an Internet connection to download root domain names\n",
        "    \n",
        "    url_extractor = urlextract.URLExtract()\n",
        "    print(url_extractor.find_urls(\"Will it detect github.com and https://youtu.be/7Pq-S557XQU?t=3m32s\"))\n",
        "except ImportError:\n",
        "    print(\"Error: replacing URLs requires the urlextract module.\")\n",
        "    url_extractor = None"
      ],
      "execution_count": null,
      "outputs": [
        {
          "output_type": "stream",
          "text": [
            "['github.com', 'https://youtu.be/7Pq-S557XQU?t=3m32s']\n"
          ],
          "name": "stdout"
        }
      ]
    },
    {
      "cell_type": "code",
      "metadata": {
        "id": "c_wC0NJMBSlw"
      },
      "source": [
        "from sklearn.base import BaseEstimator, TransformerMixin\n",
        "from collections import Counter\n",
        "\n",
        "class EmailToWordCounterTransformer(BaseEstimator, TransformerMixin):\n",
        "    def __init__(self, strip_headers=True, lower_case=True, remove_punctuation=True,\n",
        "                 replace_urls=True, replace_numbers=True, stemming=True):\n",
        "        self.strip_headers = strip_headers\n",
        "        self.lower_case = lower_case\n",
        "        self.remove_punctuation = remove_punctuation\n",
        "        self.replace_urls = replace_urls\n",
        "        self.replace_numbers = replace_numbers\n",
        "        self.stemming = stemming\n",
        "    def fit(self, X, y=None):\n",
        "        return self\n",
        "    def transform(self, X, y=None):\n",
        "        X_transformed = []\n",
        "        for email in X:\n",
        "            text = email_to_text(email) or \"\"\n",
        "            if self.lower_case:\n",
        "                text = text.lower()\n",
        "            if self.replace_urls and url_extractor is not None:\n",
        "                urls = list(set(url_extractor.find_urls(text)))\n",
        "                urls.sort(key=lambda url: len(url), reverse=True)\n",
        "                for url in urls:\n",
        "                    text = text.replace(url, \" URL \")\n",
        "            if self.replace_numbers:\n",
        "                text = re.sub(r'\\d+(?:\\.\\d*)?(?:[eE][+-]?\\d+)?', 'NUMBER', text)\n",
        "            if self.remove_punctuation:\n",
        "                text = re.sub(r'\\W+', ' ', text, flags=re.M)\n",
        "            word_counts = Counter(text.split())\n",
        "            if self.stemming and stemmer is not None:\n",
        "                stemmed_word_counts = Counter()\n",
        "                for word, count in word_counts.items():\n",
        "                    stemmed_word = stemmer.stem(word)\n",
        "                    stemmed_word_counts[stemmed_word] += count\n",
        "                word_counts = stemmed_word_counts\n",
        "            X_transformed.append(word_counts)\n",
        "        return np.array(X_transformed)"
      ],
      "execution_count": null,
      "outputs": []
    },
    {
      "cell_type": "code",
      "metadata": {
        "colab": {
          "base_uri": "https://localhost:8080/"
        },
        "id": "85mq93JKB7Z6",
        "outputId": "abbbfd7f-92eb-4244-a896-86ab89a7a822"
      },
      "source": [
        "X_few = X_train[:3]\n",
        "X_few_wordcounts = EmailToWordCounterTransformer().fit_transform(X_few)\n",
        "X_few_wordcounts"
      ],
      "execution_count": null,
      "outputs": [
        {
          "output_type": "execute_result",
          "data": {
            "text/plain": [
              "array([Counter({'chuck': 1, 'murcko': 1, 'wrote': 1, 'stuff': 1, 'yawn': 1, 'r': 1}),\n",
              "       Counter({'the': 11, 'of': 9, 'and': 8, 'all': 3, 'christian': 3, 'to': 3, 'by': 3, 'jefferson': 2, 'i': 2, 'have': 2, 'superstit': 2, 'one': 2, 'on': 2, 'been': 2, 'ha': 2, 'half': 2, 'rogueri': 2, 'teach': 2, 'jesu': 2, 'some': 1, 'interest': 1, 'quot': 1, 'url': 1, 'thoma': 1, 'examin': 1, 'known': 1, 'word': 1, 'do': 1, 'not': 1, 'find': 1, 'in': 1, 'our': 1, 'particular': 1, 'redeem': 1, 'featur': 1, 'they': 1, 'are': 1, 'alik': 1, 'found': 1, 'fabl': 1, 'mytholog': 1, 'million': 1, 'innoc': 1, 'men': 1, 'women': 1, 'children': 1, 'sinc': 1, 'introduct': 1, 'burnt': 1, 'tortur': 1, 'fine': 1, 'imprison': 1, 'what': 1, 'effect': 1, 'thi': 1, 'coercion': 1, 'make': 1, 'world': 1, 'fool': 1, 'other': 1, 'hypocrit': 1, 'support': 1, 'error': 1, 'over': 1, 'earth': 1, 'six': 1, 'histor': 1, 'american': 1, 'john': 1, 'e': 1, 'remsburg': 1, 'letter': 1, 'william': 1, 'short': 1, 'again': 1, 'becom': 1, 'most': 1, 'pervert': 1, 'system': 1, 'that': 1, 'ever': 1, 'shone': 1, 'man': 1, 'absurd': 1, 'untruth': 1, 'were': 1, 'perpetr': 1, 'upon': 1, 'a': 1, 'larg': 1, 'band': 1, 'dupe': 1, 'import': 1, 'led': 1, 'paul': 1, 'first': 1, 'great': 1, 'corrupt': 1}),\n",
              "       Counter({'url': 4, 's': 3, 'group': 3, 'to': 3, 'in': 2, 'forteana': 2, 'martin': 2, 'an': 2, 'and': 2, 'we': 2, 'is': 2, 'yahoo': 2, 'unsubscrib': 2, 'y': 1, 'adamson': 1, 'wrote': 1, 'for': 1, 'altern': 1, 'rather': 1, 'more': 1, 'factual': 1, 'base': 1, 'rundown': 1, 'on': 1, 'hamza': 1, 'career': 1, 'includ': 1, 'hi': 1, 'belief': 1, 'that': 1, 'all': 1, 'non': 1, 'muslim': 1, 'yemen': 1, 'should': 1, 'be': 1, 'murder': 1, 'outright': 1, 'know': 1, 'how': 1, 'unbias': 1, 'memri': 1, 'don': 1, 't': 1, 'html': 1, 'rob': 1, 'sponsor': 1, 'number': 1, 'dvd': 1, 'free': 1, 'p': 1, 'join': 1, 'now': 1, 'from': 1, 'thi': 1, 'send': 1, 'email': 1, 'egroup': 1, 'com': 1, 'your': 1, 'use': 1, 'of': 1, 'subject': 1})],\n",
              "      dtype=object)"
            ]
          },
          "metadata": {
            "tags": []
          },
          "execution_count": 24
        }
      ]
    },
    {
      "cell_type": "code",
      "metadata": {
        "id": "6h7oX3l9CtRm"
      },
      "source": [
        "from scipy.sparse import csr_matrix\n",
        "\n",
        "class WordCounterToVectorTransformer(BaseEstimator, TransformerMixin):\n",
        "    def __init__(self, vocabulary_size=1000):\n",
        "        self.vocabulary_size = vocabulary_size\n",
        "    def fit(self, X, y=None):\n",
        "        total_count = Counter()\n",
        "        for word_count in X:\n",
        "            for word, count in word_count.items():\n",
        "                total_count[word] += min(count, 10)\n",
        "        most_common = total_count.most_common()[:self.vocabulary_size]\n",
        "        self.vocabulary_ = {word: index + 1 for index, (word, count) in enumerate(most_common)}\n",
        "        return self\n",
        "    def transform(self, X, y=None):\n",
        "        rows = []\n",
        "        cols = []\n",
        "        data = []\n",
        "        for row, word_count in enumerate(X):\n",
        "            for word, count in word_count.items():\n",
        "                rows.append(row)\n",
        "                cols.append(self.vocabulary_.get(word, 0))\n",
        "                data.append(count)\n",
        "        return csr_matrix((data, (rows, cols)), shape=(len(X), self.vocabulary_size + 1))"
      ],
      "execution_count": null,
      "outputs": []
    },
    {
      "cell_type": "code",
      "metadata": {
        "id": "_O_Zws1mC-Kc"
      },
      "source": [
        "from sklearn.pipeline import Pipeline\n",
        "\n",
        "preprocess_pipeline = Pipeline([\n",
        "    (\"email_to_wordcount\", EmailToWordCounterTransformer()),\n",
        "    (\"wordcount_to_vector\", WordCounterToVectorTransformer()),\n",
        "])\n",
        "\n",
        "X_train_transformed = preprocess_pipeline.fit_transform(X_train)"
      ],
      "execution_count": null,
      "outputs": []
    },
    {
      "cell_type": "code",
      "metadata": {
        "colab": {
          "base_uri": "https://localhost:8080/"
        },
        "id": "-3IWm0JNDEQ5",
        "outputId": "9306d9ac-0bc4-4568-97bb-52aa7ed65067"
      },
      "source": [
        "from sklearn.linear_model import LogisticRegression\n",
        "from sklearn.model_selection import cross_val_score\n",
        "\n",
        "log_clf = LogisticRegression(solver=\"liblinear\", max_iter=500, random_state=42)\n",
        "score = cross_val_score(log_clf, X_train_transformed, y_train, cv=3, verbose=3)\n",
        "score.mean()"
      ],
      "execution_count": null,
      "outputs": [
        {
          "output_type": "stream",
          "text": [
            "[CV]  ................................................................\n",
            "[CV] .................................... , score=0.981, total=   0.0s\n",
            "[CV]  ................................................................\n",
            "[CV] .................................... , score=0.985, total=   0.1s\n",
            "[CV]  ................................................................\n",
            "[CV] .................................... , score=0.990, total=   0.1s\n"
          ],
          "name": "stdout"
        },
        {
          "output_type": "stream",
          "text": [
            "[Parallel(n_jobs=1)]: Using backend SequentialBackend with 1 concurrent workers.\n",
            "[Parallel(n_jobs=1)]: Done   1 out of   1 | elapsed:    0.1s remaining:    0.0s\n",
            "[Parallel(n_jobs=1)]: Done   2 out of   2 | elapsed:    0.1s remaining:    0.0s\n",
            "[Parallel(n_jobs=1)]: Done   3 out of   3 | elapsed:    0.2s finished\n"
          ],
          "name": "stderr"
        },
        {
          "output_type": "execute_result",
          "data": {
            "text/plain": [
              "0.9854166666666666"
            ]
          },
          "metadata": {
            "tags": []
          },
          "execution_count": 27
        }
      ]
    },
    {
      "cell_type": "code",
      "metadata": {
        "colab": {
          "base_uri": "https://localhost:8080/"
        },
        "id": "mETEWte8DVDL",
        "outputId": "c34f036e-4774-4cd7-da17-99c3775a25d2"
      },
      "source": [
        "from sklearn.model_selection import cross_val_score\n",
        "from sklearn.metrics import precision_score, recall_score,accuracy_score\n",
        "from sklearn.svm import SVC\n",
        "from sklearn.neighbors import KNeighborsClassifier\n",
        "from sklearn.tree import DecisionTreeClassifier\n",
        "from sklearn.ensemble import RandomForestClassifier, GradientBoostingClassifier\n",
        "from sklearn.metrics import confusion_matrix\n",
        "X_test_transformed = preprocess_pipeline.transform(X_test)\n",
        "\n",
        "clfs = []\n",
        "clfs.append(SVC())\n",
        "clfs.append(KNeighborsClassifier(n_neighbors=2))\n",
        "clfs.append(DecisionTreeClassifier())\n",
        "clfs.append(RandomForestClassifier())\n",
        "clfs.append(GradientBoostingClassifier())\n",
        "pipeline = Pipeline([\n",
        "    ('clf', SVC()) \n",
        "])\n",
        "for classifier in clfs:\n",
        "    pipeline.set_params(clf = classifier)\n",
        "    print('---------------------------------')\n",
        "    print(str(classifier))\n",
        "    print('-----------------------------------')\n",
        "    score = classifier.fit( X_train_transformed, y_train)\n",
        "    y_pred = classifier.predict(X_test_transformed)\n",
        "    accuracy = accuracy_score(y_test,y_pred)\n",
        "    print(' Classifier Accuracy ',(accuracy*100))\n",
        "    #print('Mean Classifier Accuracy ',(score.mean()*100))\n",
        "    print('Precision :',100 * precision_score(y_test, y_pred))\n",
        "    print('Recall :',100 * recall_score(y_test, y_pred))\n",
        "    print(\"Confusion Matrix\",confusion_matrix(y_test, y_pred))\n",
        "    print('---------------------------------')\n"
      ],
      "execution_count": null,
      "outputs": [
        {
          "output_type": "stream",
          "text": [
            "---------------------------------\n",
            "SVC(C=1.0, break_ties=False, cache_size=200, class_weight=None, coef0=0.0,\n",
            "    decision_function_shape='ovr', degree=3, gamma='scale', kernel='rbf',\n",
            "    max_iter=-1, probability=False, random_state=None, shrinking=True,\n",
            "    tol=0.001, verbose=False)\n",
            "-----------------------------------\n",
            " Classifier Accuracy  88.66666666666667\n",
            "Precision : 100.0\n",
            "Recall : 28.421052631578945\n",
            "Confusion Matrix [[505   0]\n",
            " [ 68  27]]\n",
            "---------------------------------\n",
            "---------------------------------\n",
            "KNeighborsClassifier(algorithm='auto', leaf_size=30, metric='minkowski',\n",
            "                     metric_params=None, n_jobs=None, n_neighbors=2, p=2,\n",
            "                     weights='uniform')\n",
            "-----------------------------------\n",
            " Classifier Accuracy  94.5\n",
            "Precision : 94.28571428571428\n",
            "Recall : 69.47368421052632\n",
            "Confusion Matrix [[501   4]\n",
            " [ 29  66]]\n",
            "---------------------------------\n",
            "---------------------------------\n",
            "DecisionTreeClassifier(ccp_alpha=0.0, class_weight=None, criterion='gini',\n",
            "                       max_depth=None, max_features=None, max_leaf_nodes=None,\n",
            "                       min_impurity_decrease=0.0, min_impurity_split=None,\n",
            "                       min_samples_leaf=1, min_samples_split=2,\n",
            "                       min_weight_fraction_leaf=0.0, presort='deprecated',\n",
            "                       random_state=None, splitter='best')\n",
            "-----------------------------------\n",
            " Classifier Accuracy  96.83333333333334\n",
            "Precision : 88.77551020408163\n",
            "Recall : 91.57894736842105\n",
            "Confusion Matrix [[494  11]\n",
            " [  8  87]]\n",
            "---------------------------------\n",
            "---------------------------------\n",
            "RandomForestClassifier(bootstrap=True, ccp_alpha=0.0, class_weight=None,\n",
            "                       criterion='gini', max_depth=None, max_features='auto',\n",
            "                       max_leaf_nodes=None, max_samples=None,\n",
            "                       min_impurity_decrease=0.0, min_impurity_split=None,\n",
            "                       min_samples_leaf=1, min_samples_split=2,\n",
            "                       min_weight_fraction_leaf=0.0, n_estimators=100,\n",
            "                       n_jobs=None, oob_score=False, random_state=None,\n",
            "                       verbose=0, warm_start=False)\n",
            "-----------------------------------\n",
            " Classifier Accuracy  98.33333333333333\n",
            "Precision : 98.85057471264368\n",
            "Recall : 90.52631578947368\n",
            "Confusion Matrix [[504   1]\n",
            " [  9  86]]\n",
            "---------------------------------\n",
            "---------------------------------\n",
            "GradientBoostingClassifier(ccp_alpha=0.0, criterion='friedman_mse', init=None,\n",
            "                           learning_rate=0.1, loss='deviance', max_depth=3,\n",
            "                           max_features=None, max_leaf_nodes=None,\n",
            "                           min_impurity_decrease=0.0, min_impurity_split=None,\n",
            "                           min_samples_leaf=1, min_samples_split=2,\n",
            "                           min_weight_fraction_leaf=0.0, n_estimators=100,\n",
            "                           n_iter_no_change=None, presort='deprecated',\n",
            "                           random_state=None, subsample=1.0, tol=0.0001,\n",
            "                           validation_fraction=0.1, verbose=0,\n",
            "                           warm_start=False)\n",
            "-----------------------------------\n",
            " Classifier Accuracy  98.5\n",
            "Precision : 97.77777777777777\n",
            "Recall : 92.63157894736842\n",
            "Confusion Matrix [[503   2]\n",
            " [  7  88]]\n",
            "---------------------------------\n"
          ],
          "name": "stdout"
        }
      ]
    }
  ]
}