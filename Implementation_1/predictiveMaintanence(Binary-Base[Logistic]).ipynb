{
 "cells": [
  {
   "cell_type": "markdown",
   "metadata": {
    "_cell_guid": "b1076dfc-b9ad-4769-8c92-a6c4dae69d19",
    "_uuid": "8f2839f25d086af736a60e9eeb907d3b93b6e0e5",
    "execution": {
     "iopub.execute_input": "2021-09-22T13:09:54.721957Z",
     "iopub.status.busy": "2021-09-22T13:09:54.720758Z",
     "iopub.status.idle": "2021-09-22T13:09:55.675361Z",
     "shell.execute_reply": "2021-09-22T13:09:55.675915Z",
     "shell.execute_reply.started": "2021-09-22T12:44:20.201513Z"
    },
    "papermill": {
     "duration": 0.996554,
     "end_time": "2021-09-22T13:09:55.676190",
     "exception": false,
     "start_time": "2021-09-22T13:09:54.679636",
     "status": "completed"
    },
    "tags": []
   },
   "source": [
    "## Abstract:\n",
    "\n",
    "The AI4I 2020 Predictive Maintenance Dataset is a synthetic dataset that reflects real predictive maintenance data encountered in industry.\n",
    "\n",
    "### Data Set Information: (Publisher)\n",
    "\n",
    "Since real predictive maintenance datasets are generally difficult to obtain and in particular difficult to publish, we present and provide a synthetic dataset that reflects real predictive maintenance encountered in industry to the best of our knowledge.\n",
    "\n",
    "#### Source:\n",
    "\n",
    "[UCI- AI4I 2020 Predictive Maintenance Dataset Data Set](https://archive.ics.uci.edu/ml/datasets/AI4I+2020+Predictive+Maintenance+Dataset#)\n",
    "#### Relevant Papers:\n",
    "\n",
    "Stephan Matzka, [Explainable Artificial Intelligence for Predictive Maintenance Applications](https://ieeexplore.ieee.org/document/9253083), Third International Conference on Artificial Intelligence for Industries (AI4I 2020), 2020 (in press)\n"
   ]
  },
  {
   "cell_type": "code",
   "execution_count": 1,
   "metadata": {},
   "outputs": [],
   "source": [
    "# Import required Modules\n",
    "import numpy as np\n",
    "import pandas as pd \n",
    "import matplotlib.pyplot as plt\n",
    "import seaborn as sea\n",
    "%matplotlib inline"
   ]
  },
  {
   "cell_type": "code",
   "execution_count": 2,
   "metadata": {
    "execution": {
     "iopub.execute_input": "2021-09-22T13:09:55.756981Z",
     "iopub.status.busy": "2021-09-22T13:09:55.756281Z",
     "iopub.status.idle": "2021-09-22T13:09:55.818424Z",
     "shell.execute_reply": "2021-09-22T13:09:55.819112Z",
     "shell.execute_reply.started": "2021-09-22T12:44:20.396833Z"
    },
    "papermill": {
     "duration": 0.10433,
     "end_time": "2021-09-22T13:09:55.819306",
     "exception": false,
     "start_time": "2021-09-22T13:09:55.714976",
     "status": "completed"
    },
    "tags": []
   },
   "outputs": [
    {
     "data": {
      "text/html": [
       "<div>\n",
       "<style scoped>\n",
       "    .dataframe tbody tr th:only-of-type {\n",
       "        vertical-align: middle;\n",
       "    }\n",
       "\n",
       "    .dataframe tbody tr th {\n",
       "        vertical-align: top;\n",
       "    }\n",
       "\n",
       "    .dataframe thead th {\n",
       "        text-align: right;\n",
       "    }\n",
       "</style>\n",
       "<table border=\"1\" class=\"dataframe\">\n",
       "  <thead>\n",
       "    <tr style=\"text-align: right;\">\n",
       "      <th></th>\n",
       "      <th>UDI</th>\n",
       "      <th>Product ID</th>\n",
       "      <th>Type</th>\n",
       "      <th>Air temperature [K]</th>\n",
       "      <th>Process temperature [K]</th>\n",
       "      <th>Rotational speed [rpm]</th>\n",
       "      <th>Torque [Nm]</th>\n",
       "      <th>Tool wear [min]</th>\n",
       "      <th>Machine failure</th>\n",
       "      <th>TWF</th>\n",
       "      <th>HDF</th>\n",
       "      <th>PWF</th>\n",
       "      <th>OSF</th>\n",
       "      <th>RNF</th>\n",
       "    </tr>\n",
       "  </thead>\n",
       "  <tbody>\n",
       "    <tr>\n",
       "      <th>0</th>\n",
       "      <td>1</td>\n",
       "      <td>M14860</td>\n",
       "      <td>M</td>\n",
       "      <td>298.1</td>\n",
       "      <td>308.6</td>\n",
       "      <td>1551</td>\n",
       "      <td>42.8</td>\n",
       "      <td>0</td>\n",
       "      <td>0</td>\n",
       "      <td>0</td>\n",
       "      <td>0</td>\n",
       "      <td>0</td>\n",
       "      <td>0</td>\n",
       "      <td>0</td>\n",
       "    </tr>\n",
       "    <tr>\n",
       "      <th>1</th>\n",
       "      <td>2</td>\n",
       "      <td>L47181</td>\n",
       "      <td>L</td>\n",
       "      <td>298.2</td>\n",
       "      <td>308.7</td>\n",
       "      <td>1408</td>\n",
       "      <td>46.3</td>\n",
       "      <td>3</td>\n",
       "      <td>0</td>\n",
       "      <td>0</td>\n",
       "      <td>0</td>\n",
       "      <td>0</td>\n",
       "      <td>0</td>\n",
       "      <td>0</td>\n",
       "    </tr>\n",
       "    <tr>\n",
       "      <th>2</th>\n",
       "      <td>3</td>\n",
       "      <td>L47182</td>\n",
       "      <td>L</td>\n",
       "      <td>298.1</td>\n",
       "      <td>308.5</td>\n",
       "      <td>1498</td>\n",
       "      <td>49.4</td>\n",
       "      <td>5</td>\n",
       "      <td>0</td>\n",
       "      <td>0</td>\n",
       "      <td>0</td>\n",
       "      <td>0</td>\n",
       "      <td>0</td>\n",
       "      <td>0</td>\n",
       "    </tr>\n",
       "    <tr>\n",
       "      <th>3</th>\n",
       "      <td>4</td>\n",
       "      <td>L47183</td>\n",
       "      <td>L</td>\n",
       "      <td>298.2</td>\n",
       "      <td>308.6</td>\n",
       "      <td>1433</td>\n",
       "      <td>39.5</td>\n",
       "      <td>7</td>\n",
       "      <td>0</td>\n",
       "      <td>0</td>\n",
       "      <td>0</td>\n",
       "      <td>0</td>\n",
       "      <td>0</td>\n",
       "      <td>0</td>\n",
       "    </tr>\n",
       "    <tr>\n",
       "      <th>4</th>\n",
       "      <td>5</td>\n",
       "      <td>L47184</td>\n",
       "      <td>L</td>\n",
       "      <td>298.2</td>\n",
       "      <td>308.7</td>\n",
       "      <td>1408</td>\n",
       "      <td>40.0</td>\n",
       "      <td>9</td>\n",
       "      <td>0</td>\n",
       "      <td>0</td>\n",
       "      <td>0</td>\n",
       "      <td>0</td>\n",
       "      <td>0</td>\n",
       "      <td>0</td>\n",
       "    </tr>\n",
       "  </tbody>\n",
       "</table>\n",
       "</div>"
      ],
      "text/plain": [
       "   UDI Product ID Type  Air temperature [K]  Process temperature [K]  \\\n",
       "0    1     M14860    M                298.1                    308.6   \n",
       "1    2     L47181    L                298.2                    308.7   \n",
       "2    3     L47182    L                298.1                    308.5   \n",
       "3    4     L47183    L                298.2                    308.6   \n",
       "4    5     L47184    L                298.2                    308.7   \n",
       "\n",
       "   Rotational speed [rpm]  Torque [Nm]  Tool wear [min]  Machine failure  TWF  \\\n",
       "0                    1551         42.8                0                0    0   \n",
       "1                    1408         46.3                3                0    0   \n",
       "2                    1498         49.4                5                0    0   \n",
       "3                    1433         39.5                7                0    0   \n",
       "4                    1408         40.0                9                0    0   \n",
       "\n",
       "   HDF  PWF  OSF  RNF  \n",
       "0    0    0    0    0  \n",
       "1    0    0    0    0  \n",
       "2    0    0    0    0  \n",
       "3    0    0    0    0  \n",
       "4    0    0    0    0  "
      ]
     },
     "execution_count": 2,
     "metadata": {},
     "output_type": "execute_result"
    }
   ],
   "source": [
    "# Read Dataset\n",
    "preMain = pd.read_csv('/kaggle/input/predictive-maintenance/ai4i2020.csv')\n",
    "preMain.head()"
   ]
  },
  {
   "cell_type": "code",
   "execution_count": 3,
   "metadata": {
    "execution": {
     "iopub.execute_input": "2021-09-22T13:09:55.899331Z",
     "iopub.status.busy": "2021-09-22T13:09:55.898298Z",
     "iopub.status.idle": "2021-09-22T13:09:55.926815Z",
     "shell.execute_reply": "2021-09-22T13:09:55.927301Z",
     "shell.execute_reply.started": "2021-09-22T12:44:20.472634Z"
    },
    "papermill": {
     "duration": 0.069317,
     "end_time": "2021-09-22T13:09:55.927484",
     "exception": false,
     "start_time": "2021-09-22T13:09:55.858167",
     "status": "completed"
    },
    "tags": []
   },
   "outputs": [
    {
     "name": "stdout",
     "output_type": "stream",
     "text": [
      "<class 'pandas.core.frame.DataFrame'>\n",
      "RangeIndex: 10000 entries, 0 to 9999\n",
      "Data columns (total 14 columns):\n",
      " #   Column                   Non-Null Count  Dtype  \n",
      "---  ------                   --------------  -----  \n",
      " 0   UDI                      10000 non-null  int64  \n",
      " 1   Product ID               10000 non-null  object \n",
      " 2   Type                     10000 non-null  object \n",
      " 3   Air temperature [K]      10000 non-null  float64\n",
      " 4   Process temperature [K]  10000 non-null  float64\n",
      " 5   Rotational speed [rpm]   10000 non-null  int64  \n",
      " 6   Torque [Nm]              10000 non-null  float64\n",
      " 7   Tool wear [min]          10000 non-null  int64  \n",
      " 8   Machine failure          10000 non-null  int64  \n",
      " 9   TWF                      10000 non-null  int64  \n",
      " 10  HDF                      10000 non-null  int64  \n",
      " 11  PWF                      10000 non-null  int64  \n",
      " 12  OSF                      10000 non-null  int64  \n",
      " 13  RNF                      10000 non-null  int64  \n",
      "dtypes: float64(3), int64(9), object(2)\n",
      "memory usage: 1.1+ MB\n"
     ]
    }
   ],
   "source": [
    "preMain.info()"
   ]
  },
  {
   "cell_type": "markdown",
   "metadata": {
    "papermill": {
     "duration": 0.037011,
     "end_time": "2021-09-22T13:09:56.001911",
     "exception": false,
     "start_time": "2021-09-22T13:09:55.964900",
     "status": "completed"
    },
    "tags": []
   },
   "source": [
    "We have **2 objects** (Product ID, Type), and **3 floats** (Ait Temp, Process Temp, Torque), and **int** for the others."
   ]
  },
  {
   "cell_type": "code",
   "execution_count": 4,
   "metadata": {
    "execution": {
     "iopub.execute_input": "2021-09-22T13:09:56.081104Z",
     "iopub.status.busy": "2021-09-22T13:09:56.080366Z",
     "iopub.status.idle": "2021-09-22T13:09:56.089335Z",
     "shell.execute_reply": "2021-09-22T13:09:56.088810Z",
     "shell.execute_reply.started": "2021-09-22T12:44:20.513294Z"
    },
    "papermill": {
     "duration": 0.049832,
     "end_time": "2021-09-22T13:09:56.089479",
     "exception": false,
     "start_time": "2021-09-22T13:09:56.039647",
     "status": "completed"
    },
    "tags": []
   },
   "outputs": [
    {
     "data": {
      "text/plain": [
       "L    6000\n",
       "M    2997\n",
       "H    1003\n",
       "Name: Type, dtype: int64"
      ]
     },
     "execution_count": 4,
     "metadata": {},
     "output_type": "execute_result"
    }
   ],
   "source": [
    "preMain['Type'].value_counts()"
   ]
  },
  {
   "cell_type": "markdown",
   "metadata": {
    "papermill": {
     "duration": 0.037188,
     "end_time": "2021-09-22T13:09:56.164631",
     "exception": false,
     "start_time": "2021-09-22T13:09:56.127443",
     "status": "completed"
    },
    "tags": []
   },
   "source": [
    "Good, Type looks like -->\n",
    "**Low:** 60%, **medium:** ~30%, **high:**  ~10% as product quality variants"
   ]
  },
  {
   "cell_type": "code",
   "execution_count": 5,
   "metadata": {
    "execution": {
     "iopub.execute_input": "2021-09-22T13:09:56.243437Z",
     "iopub.status.busy": "2021-09-22T13:09:56.242782Z",
     "iopub.status.idle": "2021-09-22T13:09:56.297800Z",
     "shell.execute_reply": "2021-09-22T13:09:56.297144Z",
     "shell.execute_reply.started": "2021-09-22T12:44:20.527882Z"
    },
    "papermill": {
     "duration": 0.095805,
     "end_time": "2021-09-22T13:09:56.297957",
     "exception": false,
     "start_time": "2021-09-22T13:09:56.202152",
     "status": "completed"
    },
    "tags": []
   },
   "outputs": [
    {
     "data": {
      "text/html": [
       "<div>\n",
       "<style scoped>\n",
       "    .dataframe tbody tr th:only-of-type {\n",
       "        vertical-align: middle;\n",
       "    }\n",
       "\n",
       "    .dataframe tbody tr th {\n",
       "        vertical-align: top;\n",
       "    }\n",
       "\n",
       "    .dataframe thead th {\n",
       "        text-align: right;\n",
       "    }\n",
       "</style>\n",
       "<table border=\"1\" class=\"dataframe\">\n",
       "  <thead>\n",
       "    <tr style=\"text-align: right;\">\n",
       "      <th></th>\n",
       "      <th>UDI</th>\n",
       "      <th>Air temperature [K]</th>\n",
       "      <th>Process temperature [K]</th>\n",
       "      <th>Rotational speed [rpm]</th>\n",
       "      <th>Torque [Nm]</th>\n",
       "      <th>Tool wear [min]</th>\n",
       "      <th>Machine failure</th>\n",
       "      <th>TWF</th>\n",
       "      <th>HDF</th>\n",
       "      <th>PWF</th>\n",
       "      <th>OSF</th>\n",
       "      <th>RNF</th>\n",
       "    </tr>\n",
       "  </thead>\n",
       "  <tbody>\n",
       "    <tr>\n",
       "      <th>count</th>\n",
       "      <td>10000.00000</td>\n",
       "      <td>10000.000000</td>\n",
       "      <td>10000.000000</td>\n",
       "      <td>10000.000000</td>\n",
       "      <td>10000.000000</td>\n",
       "      <td>10000.000000</td>\n",
       "      <td>10000.000000</td>\n",
       "      <td>10000.000000</td>\n",
       "      <td>10000.000000</td>\n",
       "      <td>10000.000000</td>\n",
       "      <td>10000.000000</td>\n",
       "      <td>10000.00000</td>\n",
       "    </tr>\n",
       "    <tr>\n",
       "      <th>mean</th>\n",
       "      <td>5000.50000</td>\n",
       "      <td>300.004930</td>\n",
       "      <td>310.005560</td>\n",
       "      <td>1538.776100</td>\n",
       "      <td>39.986910</td>\n",
       "      <td>107.951000</td>\n",
       "      <td>0.033900</td>\n",
       "      <td>0.004600</td>\n",
       "      <td>0.011500</td>\n",
       "      <td>0.009500</td>\n",
       "      <td>0.009800</td>\n",
       "      <td>0.00190</td>\n",
       "    </tr>\n",
       "    <tr>\n",
       "      <th>std</th>\n",
       "      <td>2886.89568</td>\n",
       "      <td>2.000259</td>\n",
       "      <td>1.483734</td>\n",
       "      <td>179.284096</td>\n",
       "      <td>9.968934</td>\n",
       "      <td>63.654147</td>\n",
       "      <td>0.180981</td>\n",
       "      <td>0.067671</td>\n",
       "      <td>0.106625</td>\n",
       "      <td>0.097009</td>\n",
       "      <td>0.098514</td>\n",
       "      <td>0.04355</td>\n",
       "    </tr>\n",
       "    <tr>\n",
       "      <th>min</th>\n",
       "      <td>1.00000</td>\n",
       "      <td>295.300000</td>\n",
       "      <td>305.700000</td>\n",
       "      <td>1168.000000</td>\n",
       "      <td>3.800000</td>\n",
       "      <td>0.000000</td>\n",
       "      <td>0.000000</td>\n",
       "      <td>0.000000</td>\n",
       "      <td>0.000000</td>\n",
       "      <td>0.000000</td>\n",
       "      <td>0.000000</td>\n",
       "      <td>0.00000</td>\n",
       "    </tr>\n",
       "    <tr>\n",
       "      <th>25%</th>\n",
       "      <td>2500.75000</td>\n",
       "      <td>298.300000</td>\n",
       "      <td>308.800000</td>\n",
       "      <td>1423.000000</td>\n",
       "      <td>33.200000</td>\n",
       "      <td>53.000000</td>\n",
       "      <td>0.000000</td>\n",
       "      <td>0.000000</td>\n",
       "      <td>0.000000</td>\n",
       "      <td>0.000000</td>\n",
       "      <td>0.000000</td>\n",
       "      <td>0.00000</td>\n",
       "    </tr>\n",
       "    <tr>\n",
       "      <th>50%</th>\n",
       "      <td>5000.50000</td>\n",
       "      <td>300.100000</td>\n",
       "      <td>310.100000</td>\n",
       "      <td>1503.000000</td>\n",
       "      <td>40.100000</td>\n",
       "      <td>108.000000</td>\n",
       "      <td>0.000000</td>\n",
       "      <td>0.000000</td>\n",
       "      <td>0.000000</td>\n",
       "      <td>0.000000</td>\n",
       "      <td>0.000000</td>\n",
       "      <td>0.00000</td>\n",
       "    </tr>\n",
       "    <tr>\n",
       "      <th>75%</th>\n",
       "      <td>7500.25000</td>\n",
       "      <td>301.500000</td>\n",
       "      <td>311.100000</td>\n",
       "      <td>1612.000000</td>\n",
       "      <td>46.800000</td>\n",
       "      <td>162.000000</td>\n",
       "      <td>0.000000</td>\n",
       "      <td>0.000000</td>\n",
       "      <td>0.000000</td>\n",
       "      <td>0.000000</td>\n",
       "      <td>0.000000</td>\n",
       "      <td>0.00000</td>\n",
       "    </tr>\n",
       "    <tr>\n",
       "      <th>max</th>\n",
       "      <td>10000.00000</td>\n",
       "      <td>304.500000</td>\n",
       "      <td>313.800000</td>\n",
       "      <td>2886.000000</td>\n",
       "      <td>76.600000</td>\n",
       "      <td>253.000000</td>\n",
       "      <td>1.000000</td>\n",
       "      <td>1.000000</td>\n",
       "      <td>1.000000</td>\n",
       "      <td>1.000000</td>\n",
       "      <td>1.000000</td>\n",
       "      <td>1.00000</td>\n",
       "    </tr>\n",
       "  </tbody>\n",
       "</table>\n",
       "</div>"
      ],
      "text/plain": [
       "               UDI  Air temperature [K]  Process temperature [K]  \\\n",
       "count  10000.00000         10000.000000             10000.000000   \n",
       "mean    5000.50000           300.004930               310.005560   \n",
       "std     2886.89568             2.000259                 1.483734   \n",
       "min        1.00000           295.300000               305.700000   \n",
       "25%     2500.75000           298.300000               308.800000   \n",
       "50%     5000.50000           300.100000               310.100000   \n",
       "75%     7500.25000           301.500000               311.100000   \n",
       "max    10000.00000           304.500000               313.800000   \n",
       "\n",
       "       Rotational speed [rpm]   Torque [Nm]  Tool wear [min]  Machine failure  \\\n",
       "count            10000.000000  10000.000000     10000.000000     10000.000000   \n",
       "mean              1538.776100     39.986910       107.951000         0.033900   \n",
       "std                179.284096      9.968934        63.654147         0.180981   \n",
       "min               1168.000000      3.800000         0.000000         0.000000   \n",
       "25%               1423.000000     33.200000        53.000000         0.000000   \n",
       "50%               1503.000000     40.100000       108.000000         0.000000   \n",
       "75%               1612.000000     46.800000       162.000000         0.000000   \n",
       "max               2886.000000     76.600000       253.000000         1.000000   \n",
       "\n",
       "                TWF           HDF           PWF           OSF          RNF  \n",
       "count  10000.000000  10000.000000  10000.000000  10000.000000  10000.00000  \n",
       "mean       0.004600      0.011500      0.009500      0.009800      0.00190  \n",
       "std        0.067671      0.106625      0.097009      0.098514      0.04355  \n",
       "min        0.000000      0.000000      0.000000      0.000000      0.00000  \n",
       "25%        0.000000      0.000000      0.000000      0.000000      0.00000  \n",
       "50%        0.000000      0.000000      0.000000      0.000000      0.00000  \n",
       "75%        0.000000      0.000000      0.000000      0.000000      0.00000  \n",
       "max        1.000000      1.000000      1.000000      1.000000      1.00000  "
      ]
     },
     "execution_count": 5,
     "metadata": {},
     "output_type": "execute_result"
    }
   ],
   "source": [
    "preMain.describe()"
   ]
  },
  {
   "cell_type": "code",
   "execution_count": 6,
   "metadata": {
    "execution": {
     "iopub.execute_input": "2021-09-22T13:09:56.386998Z",
     "iopub.status.busy": "2021-09-22T13:09:56.385943Z",
     "iopub.status.idle": "2021-09-22T13:09:56.390045Z",
     "shell.execute_reply": "2021-09-22T13:09:56.390506Z",
     "shell.execute_reply.started": "2021-09-22T12:44:20.592898Z"
    },
    "papermill": {
     "duration": 0.050495,
     "end_time": "2021-09-22T13:09:56.390695",
     "exception": false,
     "start_time": "2021-09-22T13:09:56.340200",
     "status": "completed"
    },
    "tags": []
   },
   "outputs": [
    {
     "data": {
      "text/plain": [
       "10000"
      ]
     },
     "execution_count": 6,
     "metadata": {},
     "output_type": "execute_result"
    }
   ],
   "source": [
    "# check if there is same product maybe repeat along dataset\n",
    "preMain['Product ID'].nunique()"
   ]
  },
  {
   "cell_type": "code",
   "execution_count": 7,
   "metadata": {
    "execution": {
     "iopub.execute_input": "2021-09-22T13:09:56.478677Z",
     "iopub.status.busy": "2021-09-22T13:09:56.472303Z",
     "iopub.status.idle": "2021-09-22T13:09:56.486726Z",
     "shell.execute_reply": "2021-09-22T13:09:56.487716Z",
     "shell.execute_reply.started": "2021-09-22T12:44:20.605721Z"
    },
    "papermill": {
     "duration": 0.058393,
     "end_time": "2021-09-22T13:09:56.487975",
     "exception": false,
     "start_time": "2021-09-22T13:09:56.429582",
     "status": "completed"
    },
    "tags": []
   },
   "outputs": [
    {
     "data": {
      "text/plain": [
       "UDI                        0\n",
       "Product ID                 0\n",
       "Type                       0\n",
       "Air temperature [K]        0\n",
       "Process temperature [K]    0\n",
       "Rotational speed [rpm]     0\n",
       "Torque [Nm]                0\n",
       "Tool wear [min]            0\n",
       "Machine failure            0\n",
       "TWF                        0\n",
       "HDF                        0\n",
       "PWF                        0\n",
       "OSF                        0\n",
       "RNF                        0\n",
       "dtype: int64"
      ]
     },
     "execution_count": 7,
     "metadata": {},
     "output_type": "execute_result"
    }
   ],
   "source": [
    "# Check nulls\n",
    "preMain.isnull().sum()"
   ]
  },
  {
   "cell_type": "code",
   "execution_count": 8,
   "metadata": {
    "execution": {
     "iopub.execute_input": "2021-09-22T13:09:56.592045Z",
     "iopub.status.busy": "2021-09-22T13:09:56.591361Z",
     "iopub.status.idle": "2021-09-22T13:09:56.603920Z",
     "shell.execute_reply": "2021-09-22T13:09:56.604465Z",
     "shell.execute_reply.started": "2021-09-22T12:44:20.622007Z"
    },
    "papermill": {
     "duration": 0.063229,
     "end_time": "2021-09-22T13:09:56.604659",
     "exception": false,
     "start_time": "2021-09-22T13:09:56.541430",
     "status": "completed"
    },
    "tags": []
   },
   "outputs": [
    {
     "name": "stdout",
     "output_type": "stream",
     "text": [
      "       UDI Product ID Type  Air temperature [K]  Process temperature [K]  \\\n",
      "5401  5402     M20261    M                302.6                    312.3   \n",
      "5909  5910     H35323    H                300.7                    310.2   \n",
      "8846  8847     M23706    M                297.4                    308.8   \n",
      "\n",
      "      Rotational speed [rpm]  Torque [Nm]  Tool wear [min]  Machine failure  \\\n",
      "5401                    1454         54.8              253                1   \n",
      "5909                    1364         65.3              208                1   \n",
      "8846                    1325         62.4              204                1   \n",
      "\n",
      "      TWF  HDF  PWF  OSF  RNF  \n",
      "5401    1    0    0    1    0  \n",
      "5909    1    0    1    1    0  \n",
      "8846    1    0    0    1    0  \n"
     ]
    }
   ],
   "source": [
    "# check if there is same mode failures maybe repeats along dataset\n",
    "modes = preMain.columns[preMain.columns.isin(['TWF','OSF'])] # we can also try with PWF/RNF\n",
    "\n",
    "print (preMain[(preMain[modes] == 1).all(1)])"
   ]
  },
  {
   "cell_type": "markdown",
   "metadata": {
    "papermill": {
     "duration": 0.039139,
     "end_time": "2021-09-22T13:09:56.683778",
     "exception": false,
     "start_time": "2021-09-22T13:09:56.644639",
     "status": "completed"
    },
    "tags": []
   },
   "source": [
    "That's right the mode can be repeats but the machine failure will be one with any/multi modes"
   ]
  },
  {
   "cell_type": "markdown",
   "metadata": {
    "papermill": {
     "duration": 0.038872,
     "end_time": "2021-09-22T13:09:56.761963",
     "exception": false,
     "start_time": "2021-09-22T13:09:56.723091",
     "status": "completed"
    },
    "tags": []
   },
   "source": [
    "## Look at some Graphs and Distributions"
   ]
  },
  {
   "cell_type": "code",
   "execution_count": 9,
   "metadata": {
    "execution": {
     "iopub.execute_input": "2021-09-22T13:09:56.845607Z",
     "iopub.status.busy": "2021-09-22T13:09:56.844898Z",
     "iopub.status.idle": "2021-09-22T13:09:57.082178Z",
     "shell.execute_reply": "2021-09-22T13:09:57.082821Z",
     "shell.execute_reply.started": "2021-09-22T12:44:20.637534Z"
    },
    "papermill": {
     "duration": 0.281799,
     "end_time": "2021-09-22T13:09:57.082991",
     "exception": false,
     "start_time": "2021-09-22T13:09:56.801192",
     "status": "completed"
    },
    "tags": []
   },
   "outputs": [
    {
     "data": {
      "image/png": "[encoded data removed]",
      "text/plain": [
       "<Figure size 720x360 with 1 Axes>"
      ]
     },
     "metadata": {
      "needs_background": "light"
     },
     "output_type": "display_data"
    }
   ],
   "source": [
    "preMain['Air temperature [K]'].hist(bins= 20, figsize= (10,5))\n",
    "plt.show()"
   ]
  },
  {
   "cell_type": "code",
   "execution_count": 10,
   "metadata": {
    "execution": {
     "iopub.execute_input": "2021-09-22T13:09:57.196010Z",
     "iopub.status.busy": "2021-09-22T13:09:57.177262Z",
     "iopub.status.idle": "2021-09-22T13:09:57.386739Z",
     "shell.execute_reply": "2021-09-22T13:09:57.386190Z",
     "shell.execute_reply.started": "2021-09-22T12:44:20.897524Z"
    },
    "papermill": {
     "duration": 0.262908,
     "end_time": "2021-09-22T13:09:57.386876",
     "exception": false,
     "start_time": "2021-09-22T13:09:57.123968",
     "status": "completed"
    },
    "tags": []
   },
   "outputs": [
    {
     "data": {
      "image/png": "[encoded data removed]",
      "text/plain": [
       "<Figure size 720x360 with 1 Axes>"
      ]
     },
     "metadata": {
      "needs_background": "light"
     },
     "output_type": "display_data"
    }
   ],
   "source": [
    "preMain['Process temperature [K]'].hist(bins= 20, figsize= (10,5))\n",
    "plt.show()"
   ]
  },
  {
   "cell_type": "code",
   "execution_count": 11,
   "metadata": {
    "execution": {
     "iopub.execute_input": "2021-09-22T13:09:57.497464Z",
     "iopub.status.busy": "2021-09-22T13:09:57.496761Z",
     "iopub.status.idle": "2021-09-22T13:09:57.676929Z",
     "shell.execute_reply": "2021-09-22T13:09:57.677410Z",
     "shell.execute_reply.started": "2021-09-22T12:44:21.114794Z"
    },
    "papermill": {
     "duration": 0.249991,
     "end_time": "2021-09-22T13:09:57.677606",
     "exception": false,
     "start_time": "2021-09-22T13:09:57.427615",
     "status": "completed"
    },
    "tags": []
   },
   "outputs": [
    {
     "data": {
      "image/png": "[encoded data removed]",
      "text/plain": [
       "<Figure size 720x360 with 1 Axes>"
      ]
     },
     "metadata": {
      "needs_background": "light"
     },
     "output_type": "display_data"
    }
   ],
   "source": [
    "preMain['Rotational speed [rpm]'].hist(bins= 20, figsize= (10,5))\n",
    "plt.show()"
   ]
  },
  {
   "cell_type": "markdown",
   "metadata": {
    "papermill": {
     "duration": 0.041767,
     "end_time": "2021-09-22T13:09:57.760987",
     "exception": false,
     "start_time": "2021-09-22T13:09:57.719220",
     "status": "completed"
    },
    "tags": []
   },
   "source": [
    "Overlaid with a normally distributed noise"
   ]
  },
  {
   "cell_type": "code",
   "execution_count": 12,
   "metadata": {
    "execution": {
     "iopub.execute_input": "2021-09-22T13:09:57.865643Z",
     "iopub.status.busy": "2021-09-22T13:09:57.864242Z",
     "iopub.status.idle": "2021-09-22T13:09:58.070150Z",
     "shell.execute_reply": "2021-09-22T13:09:58.069170Z",
     "shell.execute_reply.started": "2021-09-22T12:44:21.316707Z"
    },
    "papermill": {
     "duration": 0.267811,
     "end_time": "2021-09-22T13:09:58.070297",
     "exception": false,
     "start_time": "2021-09-22T13:09:57.802486",
     "status": "completed"
    },
    "tags": []
   },
   "outputs": [
    {
     "data": {
      "image/png": "[encoded data removed]",
      "text/plain": [
       "<Figure size 720x360 with 1 Axes>"
      ]
     },
     "metadata": {
      "needs_background": "light"
     },
     "output_type": "display_data"
    }
   ],
   "source": [
    "preMain['Torque [Nm]'].hist(bins= 20, figsize= (10,5))\n",
    "plt.show()"
   ]
  },
  {
   "cell_type": "markdown",
   "metadata": {
    "papermill": {
     "duration": 0.043211,
     "end_time": "2021-09-22T13:09:58.156291",
     "exception": false,
     "start_time": "2021-09-22T13:09:58.113080",
     "status": "completed"
    },
    "tags": []
   },
   "source": [
    "Right this is Normally distributed"
   ]
  },
  {
   "cell_type": "code",
   "execution_count": 13,
   "metadata": {
    "execution": {
     "iopub.execute_input": "2021-09-22T13:09:58.384233Z",
     "iopub.status.busy": "2021-09-22T13:09:58.246562Z",
     "iopub.status.idle": "2021-09-22T13:09:58.625741Z",
     "shell.execute_reply": "2021-09-22T13:09:58.624996Z",
     "shell.execute_reply.started": "2021-09-22T12:44:21.548386Z"
    },
    "papermill": {
     "duration": 0.426331,
     "end_time": "2021-09-22T13:09:58.625884",
     "exception": false,
     "start_time": "2021-09-22T13:09:58.199553",
     "status": "completed"
    },
    "tags": []
   },
   "outputs": [
    {
     "data": {
      "image/png": "[encoded data removed]",
      "text/plain": [
       "<Figure size 720x360 with 1 Axes>"
      ]
     },
     "metadata": {
      "needs_background": "light"
     },
     "output_type": "display_data"
    }
   ],
   "source": [
    "preMain['Tool wear [min]'].hist(bins= 50, figsize= (10,5))\n",
    "plt.show()"
   ]
  },
  {
   "cell_type": "markdown",
   "metadata": {
    "papermill": {
     "duration": 0.042688,
     "end_time": "2021-09-22T13:09:58.711369",
     "exception": false,
     "start_time": "2021-09-22T13:09:58.668681",
     "status": "completed"
    },
    "tags": []
   },
   "source": [
    "## Look at some Relationships(for failure modes)"
   ]
  },
  {
   "cell_type": "markdown",
   "metadata": {
    "papermill": {
     "duration": 0.042233,
     "end_time": "2021-09-22T13:09:58.796603",
     "exception": false,
     "start_time": "2021-09-22T13:09:58.754370",
     "status": "completed"
    },
    "tags": []
   },
   "source": [
    "## TWF"
   ]
  },
  {
   "cell_type": "code",
   "execution_count": 14,
   "metadata": {
    "execution": {
     "iopub.execute_input": "2021-09-22T13:09:58.891751Z",
     "iopub.status.busy": "2021-09-22T13:09:58.890990Z",
     "iopub.status.idle": "2021-09-22T13:09:59.422607Z",
     "shell.execute_reply": "2021-09-22T13:09:59.423110Z",
     "shell.execute_reply.started": "2021-09-22T12:44:21.847978Z"
    },
    "papermill": {
     "duration": 0.582692,
     "end_time": "2021-09-22T13:09:59.423274",
     "exception": false,
     "start_time": "2021-09-22T13:09:58.840582",
     "status": "completed"
    },
    "tags": []
   },
   "outputs": [
    {
     "data": {
      "image/png": "[encoded data removed]",
      "text/plain": [
       "<Figure size 402.375x360 with 1 Axes>"
      ]
     },
     "metadata": {
      "needs_background": "light"
     },
     "output_type": "display_data"
    }
   ],
   "source": [
    "\n",
    "sea.displot(preMain, x =\"Tool wear [min]\", hue= 'TWF', multiple=\"stack\");"
   ]
  },
  {
   "cell_type": "markdown",
   "metadata": {
    "papermill": {
     "duration": 0.043013,
     "end_time": "2021-09-22T13:09:59.509869",
     "exception": false,
     "start_time": "2021-09-22T13:09:59.466856",
     "status": "completed"
    },
    "tags": []
   },
   "source": [
    "If Tool wear [min] between 200 – 240, **TWF** replace or fail"
   ]
  },
  {
   "cell_type": "markdown",
   "metadata": {
    "papermill": {
     "duration": 0.042757,
     "end_time": "2021-09-22T13:09:59.596173",
     "exception": false,
     "start_time": "2021-09-22T13:09:59.553416",
     "status": "completed"
    },
    "tags": []
   },
   "source": [
    "## HDF"
   ]
  },
  {
   "cell_type": "code",
   "execution_count": 15,
   "metadata": {
    "execution": {
     "iopub.execute_input": "2021-09-22T13:09:59.688937Z",
     "iopub.status.busy": "2021-09-22T13:09:59.688292Z",
     "iopub.status.idle": "2021-09-22T13:09:59.691355Z",
     "shell.execute_reply": "2021-09-22T13:09:59.690857Z",
     "shell.execute_reply.started": "2021-09-22T12:44:22.481914Z"
    },
    "papermill": {
     "duration": 0.052001,
     "end_time": "2021-09-22T13:09:59.691485",
     "exception": false,
     "start_time": "2021-09-22T13:09:59.639484",
     "status": "completed"
    },
    "tags": []
   },
   "outputs": [],
   "source": [
    "preMain['diffTemp'] = preMain['Air temperature [K]'] - preMain['Process temperature [K]']"
   ]
  },
  {
   "cell_type": "code",
   "execution_count": 16,
   "metadata": {
    "execution": {
     "iopub.execute_input": "2021-09-22T13:09:59.782725Z",
     "iopub.status.busy": "2021-09-22T13:09:59.782046Z",
     "iopub.status.idle": "2021-09-22T13:10:01.039452Z",
     "shell.execute_reply": "2021-09-22T13:10:01.039990Z",
     "shell.execute_reply.started": "2021-09-22T12:44:22.493657Z"
    },
    "papermill": {
     "duration": 1.304697,
     "end_time": "2021-09-22T13:10:01.040161",
     "exception": false,
     "start_time": "2021-09-22T13:09:59.735464",
     "status": "completed"
    },
    "tags": []
   },
   "outputs": [
    {
     "data": {
      "image/png": "[encoded data removed]",
      "text/plain": [
       "<Figure size 432x432 with 3 Axes>"
      ]
     },
     "metadata": {
      "needs_background": "light"
     },
     "output_type": "display_data"
    }
   ],
   "source": [
    "sea.jointplot(data=preMain, x=\"diffTemp\", y=\"Rotational speed [rpm]\", hue='HDF');"
   ]
  },
  {
   "cell_type": "markdown",
   "metadata": {
    "papermill": {
     "duration": 0.047484,
     "end_time": "2021-09-22T13:10:01.135159",
     "exception": false,
     "start_time": "2021-09-22T13:10:01.087675",
     "status": "completed"
    },
    "tags": []
   },
   "source": [
    "If the difference between air-and process temperature is below 8.6 K and the tool’s rotational speed is below 1380 rpm, **HDF** occurs"
   ]
  },
  {
   "cell_type": "markdown",
   "metadata": {
    "papermill": {
     "duration": 0.047204,
     "end_time": "2021-09-22T13:10:01.230182",
     "exception": false,
     "start_time": "2021-09-22T13:10:01.182978",
     "status": "completed"
    },
    "tags": []
   },
   "source": [
    "## PWF"
   ]
  },
  {
   "cell_type": "code",
   "execution_count": 17,
   "metadata": {
    "execution": {
     "iopub.execute_input": "2021-09-22T13:10:01.332059Z",
     "iopub.status.busy": "2021-09-22T13:10:01.331343Z",
     "iopub.status.idle": "2021-09-22T13:10:01.333719Z",
     "shell.execute_reply": "2021-09-22T13:10:01.334220Z",
     "shell.execute_reply.started": "2021-09-22T12:44:23.838415Z"
    },
    "papermill": {
     "duration": 0.055887,
     "end_time": "2021-09-22T13:10:01.334386",
     "exception": false,
     "start_time": "2021-09-22T13:10:01.278499",
     "status": "completed"
    },
    "tags": []
   },
   "outputs": [],
   "source": [
    "preMain['TorqRot'] = preMain['Torque [Nm]'] * preMain['Rotational speed [rpm]']"
   ]
  },
  {
   "cell_type": "code",
   "execution_count": 18,
   "metadata": {
    "execution": {
     "iopub.execute_input": "2021-09-22T13:10:01.431680Z",
     "iopub.status.busy": "2021-09-22T13:10:01.431048Z",
     "iopub.status.idle": "2021-09-22T13:10:01.778708Z",
     "shell.execute_reply": "2021-09-22T13:10:01.778128Z",
     "shell.execute_reply.started": "2021-09-22T12:44:23.846598Z"
    },
    "papermill": {
     "duration": 0.397434,
     "end_time": "2021-09-22T13:10:01.778843",
     "exception": false,
     "start_time": "2021-09-22T13:10:01.381409",
     "status": "completed"
    },
    "tags": []
   },
   "outputs": [
    {
     "data": {
      "image/png": "[encoded data removed]",
      "text/plain": [
       "<Figure size 402.375x360 with 1 Axes>"
      ]
     },
     "metadata": {
      "needs_background": "light"
     },
     "output_type": "display_data"
    }
   ],
   "source": [
    "sea.displot(preMain, x= 'TorqRot', hue= 'PWF', element=\"step\");"
   ]
  },
  {
   "cell_type": "markdown",
   "metadata": {
    "papermill": {
     "duration": 0.047983,
     "end_time": "2021-09-22T13:10:01.874912",
     "exception": false,
     "start_time": "2021-09-22T13:10:01.826929",
     "status": "completed"
    },
    "tags": []
   },
   "source": [
    "If the power Torque [Nm] * Rotational speed [rpm] is below 3500 W or above 9000 W **PWF** occurs"
   ]
  },
  {
   "cell_type": "markdown",
   "metadata": {
    "papermill": {
     "duration": 0.047969,
     "end_time": "2021-09-22T13:10:01.971360",
     "exception": false,
     "start_time": "2021-09-22T13:10:01.923391",
     "status": "completed"
    },
    "tags": []
   },
   "source": [
    "## OSF"
   ]
  },
  {
   "cell_type": "code",
   "execution_count": 19,
   "metadata": {
    "execution": {
     "iopub.execute_input": "2021-09-22T13:10:02.071559Z",
     "iopub.status.busy": "2021-09-22T13:10:02.070922Z",
     "iopub.status.idle": "2021-09-22T13:10:02.075760Z",
     "shell.execute_reply": "2021-09-22T13:10:02.076348Z",
     "shell.execute_reply.started": "2021-09-22T12:44:24.323371Z"
    },
    "papermill": {
     "duration": 0.056708,
     "end_time": "2021-09-22T13:10:02.076527",
     "exception": false,
     "start_time": "2021-09-22T13:10:02.019819",
     "status": "completed"
    },
    "tags": []
   },
   "outputs": [],
   "source": [
    "preMain['toolTorq'] = preMain['Torque [Nm]'] * preMain['Tool wear [min]']"
   ]
  },
  {
   "cell_type": "code",
   "execution_count": 20,
   "metadata": {
    "execution": {
     "iopub.execute_input": "2021-09-22T13:10:02.176766Z",
     "iopub.status.busy": "2021-09-22T13:10:02.176084Z",
     "iopub.status.idle": "2021-09-22T13:10:02.670835Z",
     "shell.execute_reply": "2021-09-22T13:10:02.671385Z",
     "shell.execute_reply.started": "2021-09-22T12:44:24.332060Z"
    },
    "papermill": {
     "duration": 0.546419,
     "end_time": "2021-09-22T13:10:02.671588",
     "exception": false,
     "start_time": "2021-09-22T13:10:02.125169",
     "status": "completed"
    },
    "tags": []
   },
   "outputs": [
    {
     "data": {
      "image/png": "[encoded data removed]",
      "text/plain": [
       "<Figure size 432x288 with 1 Axes>"
      ]
     },
     "metadata": {
      "needs_background": "light"
     },
     "output_type": "display_data"
    }
   ],
   "source": [
    "sea.stripplot(y=\"toolTorq\", x= 'Type', hue=\"OSF\", data = preMain);"
   ]
  },
  {
   "cell_type": "markdown",
   "metadata": {
    "papermill": {
     "duration": 0.049792,
     "end_time": "2021-09-22T13:10:02.771241",
     "exception": false,
     "start_time": "2021-09-22T13:10:02.721449",
     "status": "completed"
    },
    "tags": []
   },
   "source": [
    "If the product of tool wear and torque exceeds 11,000 minNm for the L product variant (12,000 for M, 13,000 for H) **OSF** occurs"
   ]
  },
  {
   "cell_type": "markdown",
   "metadata": {
    "papermill": {
     "duration": 0.049451,
     "end_time": "2021-09-22T13:10:02.871465",
     "exception": false,
     "start_time": "2021-09-22T13:10:02.822014",
     "status": "completed"
    },
    "tags": []
   },
   "source": [
    "## RNF\n",
    "more frequent than could be expected for 10,000 datapoints in our dataset."
   ]
  },
  {
   "cell_type": "markdown",
   "metadata": {
    "papermill": {
     "duration": 0.049552,
     "end_time": "2021-09-22T13:10:02.970206",
     "exception": false,
     "start_time": "2021-09-22T13:10:02.920654",
     "status": "completed"
    },
    "tags": []
   },
   "source": [
    "### Clean last 3 columns we are added for visualization"
   ]
  },
  {
   "cell_type": "code",
   "execution_count": 21,
   "metadata": {
    "execution": {
     "iopub.execute_input": "2021-09-22T13:10:03.072491Z",
     "iopub.status.busy": "2021-09-22T13:10:03.071845Z",
     "iopub.status.idle": "2021-09-22T13:10:03.092072Z",
     "shell.execute_reply": "2021-09-22T13:10:03.092626Z",
     "shell.execute_reply.started": "2021-09-22T12:44:24.952169Z"
    },
    "papermill": {
     "duration": 0.072668,
     "end_time": "2021-09-22T13:10:03.092803",
     "exception": false,
     "start_time": "2021-09-22T13:10:03.020135",
     "status": "completed"
    },
    "tags": []
   },
   "outputs": [
    {
     "data": {
      "text/html": [
       "<div>\n",
       "<style scoped>\n",
       "    .dataframe tbody tr th:only-of-type {\n",
       "        vertical-align: middle;\n",
       "    }\n",
       "\n",
       "    .dataframe tbody tr th {\n",
       "        vertical-align: top;\n",
       "    }\n",
       "\n",
       "    .dataframe thead th {\n",
       "        text-align: right;\n",
       "    }\n",
       "</style>\n",
       "<table border=\"1\" class=\"dataframe\">\n",
       "  <thead>\n",
       "    <tr style=\"text-align: right;\">\n",
       "      <th></th>\n",
       "      <th>UDI</th>\n",
       "      <th>Product ID</th>\n",
       "      <th>Type</th>\n",
       "      <th>Air temperature [K]</th>\n",
       "      <th>Process temperature [K]</th>\n",
       "      <th>Rotational speed [rpm]</th>\n",
       "      <th>Torque [Nm]</th>\n",
       "      <th>Tool wear [min]</th>\n",
       "      <th>Machine failure</th>\n",
       "      <th>TWF</th>\n",
       "      <th>HDF</th>\n",
       "      <th>PWF</th>\n",
       "      <th>OSF</th>\n",
       "      <th>RNF</th>\n",
       "      <th>diffTemp</th>\n",
       "      <th>TorqRot</th>\n",
       "      <th>toolTorq</th>\n",
       "    </tr>\n",
       "  </thead>\n",
       "  <tbody>\n",
       "    <tr>\n",
       "      <th>0</th>\n",
       "      <td>1</td>\n",
       "      <td>M14860</td>\n",
       "      <td>M</td>\n",
       "      <td>298.1</td>\n",
       "      <td>308.6</td>\n",
       "      <td>1551</td>\n",
       "      <td>42.8</td>\n",
       "      <td>0</td>\n",
       "      <td>0</td>\n",
       "      <td>0</td>\n",
       "      <td>0</td>\n",
       "      <td>0</td>\n",
       "      <td>0</td>\n",
       "      <td>0</td>\n",
       "      <td>-10.5</td>\n",
       "      <td>66382.8</td>\n",
       "      <td>0.0</td>\n",
       "    </tr>\n",
       "    <tr>\n",
       "      <th>1</th>\n",
       "      <td>2</td>\n",
       "      <td>L47181</td>\n",
       "      <td>L</td>\n",
       "      <td>298.2</td>\n",
       "      <td>308.7</td>\n",
       "      <td>1408</td>\n",
       "      <td>46.3</td>\n",
       "      <td>3</td>\n",
       "      <td>0</td>\n",
       "      <td>0</td>\n",
       "      <td>0</td>\n",
       "      <td>0</td>\n",
       "      <td>0</td>\n",
       "      <td>0</td>\n",
       "      <td>-10.5</td>\n",
       "      <td>65190.4</td>\n",
       "      <td>138.9</td>\n",
       "    </tr>\n",
       "    <tr>\n",
       "      <th>2</th>\n",
       "      <td>3</td>\n",
       "      <td>L47182</td>\n",
       "      <td>L</td>\n",
       "      <td>298.1</td>\n",
       "      <td>308.5</td>\n",
       "      <td>1498</td>\n",
       "      <td>49.4</td>\n",
       "      <td>5</td>\n",
       "      <td>0</td>\n",
       "      <td>0</td>\n",
       "      <td>0</td>\n",
       "      <td>0</td>\n",
       "      <td>0</td>\n",
       "      <td>0</td>\n",
       "      <td>-10.4</td>\n",
       "      <td>74001.2</td>\n",
       "      <td>247.0</td>\n",
       "    </tr>\n",
       "    <tr>\n",
       "      <th>3</th>\n",
       "      <td>4</td>\n",
       "      <td>L47183</td>\n",
       "      <td>L</td>\n",
       "      <td>298.2</td>\n",
       "      <td>308.6</td>\n",
       "      <td>1433</td>\n",
       "      <td>39.5</td>\n",
       "      <td>7</td>\n",
       "      <td>0</td>\n",
       "      <td>0</td>\n",
       "      <td>0</td>\n",
       "      <td>0</td>\n",
       "      <td>0</td>\n",
       "      <td>0</td>\n",
       "      <td>-10.4</td>\n",
       "      <td>56603.5</td>\n",
       "      <td>276.5</td>\n",
       "    </tr>\n",
       "    <tr>\n",
       "      <th>4</th>\n",
       "      <td>5</td>\n",
       "      <td>L47184</td>\n",
       "      <td>L</td>\n",
       "      <td>298.2</td>\n",
       "      <td>308.7</td>\n",
       "      <td>1408</td>\n",
       "      <td>40.0</td>\n",
       "      <td>9</td>\n",
       "      <td>0</td>\n",
       "      <td>0</td>\n",
       "      <td>0</td>\n",
       "      <td>0</td>\n",
       "      <td>0</td>\n",
       "      <td>0</td>\n",
       "      <td>-10.5</td>\n",
       "      <td>56320.0</td>\n",
       "      <td>360.0</td>\n",
       "    </tr>\n",
       "  </tbody>\n",
       "</table>\n",
       "</div>"
      ],
      "text/plain": [
       "   UDI Product ID Type  Air temperature [K]  Process temperature [K]  \\\n",
       "0    1     M14860    M                298.1                    308.6   \n",
       "1    2     L47181    L                298.2                    308.7   \n",
       "2    3     L47182    L                298.1                    308.5   \n",
       "3    4     L47183    L                298.2                    308.6   \n",
       "4    5     L47184    L                298.2                    308.7   \n",
       "\n",
       "   Rotational speed [rpm]  Torque [Nm]  Tool wear [min]  Machine failure  TWF  \\\n",
       "0                    1551         42.8                0                0    0   \n",
       "1                    1408         46.3                3                0    0   \n",
       "2                    1498         49.4                5                0    0   \n",
       "3                    1433         39.5                7                0    0   \n",
       "4                    1408         40.0                9                0    0   \n",
       "\n",
       "   HDF  PWF  OSF  RNF  diffTemp  TorqRot  toolTorq  \n",
       "0    0    0    0    0     -10.5  66382.8       0.0  \n",
       "1    0    0    0    0     -10.5  65190.4     138.9  \n",
       "2    0    0    0    0     -10.4  74001.2     247.0  \n",
       "3    0    0    0    0     -10.4  56603.5     276.5  \n",
       "4    0    0    0    0     -10.5  56320.0     360.0  "
      ]
     },
     "execution_count": 21,
     "metadata": {},
     "output_type": "execute_result"
    }
   ],
   "source": [
    "preMain.head()"
   ]
  },
  {
   "cell_type": "code",
   "execution_count": 22,
   "metadata": {
    "execution": {
     "iopub.execute_input": "2021-09-22T13:10:03.196852Z",
     "iopub.status.busy": "2021-09-22T13:10:03.196180Z",
     "iopub.status.idle": "2021-09-22T13:10:03.216082Z",
     "shell.execute_reply": "2021-09-22T13:10:03.216549Z",
     "shell.execute_reply.started": "2021-09-22T12:44:24.977329Z"
    },
    "papermill": {
     "duration": 0.072913,
     "end_time": "2021-09-22T13:10:03.216725",
     "exception": false,
     "start_time": "2021-09-22T13:10:03.143812",
     "status": "completed"
    },
    "tags": []
   },
   "outputs": [
    {
     "data": {
      "text/html": [
       "<div>\n",
       "<style scoped>\n",
       "    .dataframe tbody tr th:only-of-type {\n",
       "        vertical-align: middle;\n",
       "    }\n",
       "\n",
       "    .dataframe tbody tr th {\n",
       "        vertical-align: top;\n",
       "    }\n",
       "\n",
       "    .dataframe thead th {\n",
       "        text-align: right;\n",
       "    }\n",
       "</style>\n",
       "<table border=\"1\" class=\"dataframe\">\n",
       "  <thead>\n",
       "    <tr style=\"text-align: right;\">\n",
       "      <th></th>\n",
       "      <th>UDI</th>\n",
       "      <th>Product ID</th>\n",
       "      <th>Type</th>\n",
       "      <th>Air temperature [K]</th>\n",
       "      <th>Process temperature [K]</th>\n",
       "      <th>Rotational speed [rpm]</th>\n",
       "      <th>Torque [Nm]</th>\n",
       "      <th>Tool wear [min]</th>\n",
       "      <th>Machine failure</th>\n",
       "      <th>TWF</th>\n",
       "      <th>HDF</th>\n",
       "      <th>PWF</th>\n",
       "      <th>OSF</th>\n",
       "      <th>RNF</th>\n",
       "    </tr>\n",
       "  </thead>\n",
       "  <tbody>\n",
       "    <tr>\n",
       "      <th>0</th>\n",
       "      <td>1</td>\n",
       "      <td>M14860</td>\n",
       "      <td>M</td>\n",
       "      <td>298.1</td>\n",
       "      <td>308.6</td>\n",
       "      <td>1551</td>\n",
       "      <td>42.8</td>\n",
       "      <td>0</td>\n",
       "      <td>0</td>\n",
       "      <td>0</td>\n",
       "      <td>0</td>\n",
       "      <td>0</td>\n",
       "      <td>0</td>\n",
       "      <td>0</td>\n",
       "    </tr>\n",
       "    <tr>\n",
       "      <th>1</th>\n",
       "      <td>2</td>\n",
       "      <td>L47181</td>\n",
       "      <td>L</td>\n",
       "      <td>298.2</td>\n",
       "      <td>308.7</td>\n",
       "      <td>1408</td>\n",
       "      <td>46.3</td>\n",
       "      <td>3</td>\n",
       "      <td>0</td>\n",
       "      <td>0</td>\n",
       "      <td>0</td>\n",
       "      <td>0</td>\n",
       "      <td>0</td>\n",
       "      <td>0</td>\n",
       "    </tr>\n",
       "    <tr>\n",
       "      <th>2</th>\n",
       "      <td>3</td>\n",
       "      <td>L47182</td>\n",
       "      <td>L</td>\n",
       "      <td>298.1</td>\n",
       "      <td>308.5</td>\n",
       "      <td>1498</td>\n",
       "      <td>49.4</td>\n",
       "      <td>5</td>\n",
       "      <td>0</td>\n",
       "      <td>0</td>\n",
       "      <td>0</td>\n",
       "      <td>0</td>\n",
       "      <td>0</td>\n",
       "      <td>0</td>\n",
       "    </tr>\n",
       "    <tr>\n",
       "      <th>3</th>\n",
       "      <td>4</td>\n",
       "      <td>L47183</td>\n",
       "      <td>L</td>\n",
       "      <td>298.2</td>\n",
       "      <td>308.6</td>\n",
       "      <td>1433</td>\n",
       "      <td>39.5</td>\n",
       "      <td>7</td>\n",
       "      <td>0</td>\n",
       "      <td>0</td>\n",
       "      <td>0</td>\n",
       "      <td>0</td>\n",
       "      <td>0</td>\n",
       "      <td>0</td>\n",
       "    </tr>\n",
       "    <tr>\n",
       "      <th>4</th>\n",
       "      <td>5</td>\n",
       "      <td>L47184</td>\n",
       "      <td>L</td>\n",
       "      <td>298.2</td>\n",
       "      <td>308.7</td>\n",
       "      <td>1408</td>\n",
       "      <td>40.0</td>\n",
       "      <td>9</td>\n",
       "      <td>0</td>\n",
       "      <td>0</td>\n",
       "      <td>0</td>\n",
       "      <td>0</td>\n",
       "      <td>0</td>\n",
       "      <td>0</td>\n",
       "    </tr>\n",
       "  </tbody>\n",
       "</table>\n",
       "</div>"
      ],
      "text/plain": [
       "   UDI Product ID Type  Air temperature [K]  Process temperature [K]  \\\n",
       "0    1     M14860    M                298.1                    308.6   \n",
       "1    2     L47181    L                298.2                    308.7   \n",
       "2    3     L47182    L                298.1                    308.5   \n",
       "3    4     L47183    L                298.2                    308.6   \n",
       "4    5     L47184    L                298.2                    308.7   \n",
       "\n",
       "   Rotational speed [rpm]  Torque [Nm]  Tool wear [min]  Machine failure  TWF  \\\n",
       "0                    1551         42.8                0                0    0   \n",
       "1                    1408         46.3                3                0    0   \n",
       "2                    1498         49.4                5                0    0   \n",
       "3                    1433         39.5                7                0    0   \n",
       "4                    1408         40.0                9                0    0   \n",
       "\n",
       "   HDF  PWF  OSF  RNF  \n",
       "0    0    0    0    0  \n",
       "1    0    0    0    0  \n",
       "2    0    0    0    0  \n",
       "3    0    0    0    0  \n",
       "4    0    0    0    0  "
      ]
     },
     "execution_count": 22,
     "metadata": {},
     "output_type": "execute_result"
    }
   ],
   "source": [
    "preMain.drop(preMain.columns[14:], axis=1, inplace=True)\n",
    "preMain.head()"
   ]
  },
  {
   "cell_type": "markdown",
   "metadata": {
    "papermill": {
     "duration": 0.05003,
     "end_time": "2021-09-22T13:10:03.317648",
     "exception": false,
     "start_time": "2021-09-22T13:10:03.267618",
     "status": "completed"
    },
    "tags": []
   },
   "source": [
    "# Some Explanations from our analysis :\n",
    "- **Product ID** *product quality* variants and a variant-specific serial number\n",
    "- **Type** Product Quality [L, M, H]\n",
    "- **Air temperature [K]**  normalized to a standard deviation of 2 K around 300 K\n",
    "- **Process temperature [K]** normalized to a standard deviation of 1 K, added to the air temperature plus 10 K.\n",
    "- **Rotational speed [rpm]** calculated from a power of 2860 W, overlaid with a normally distributed noise\n",
    "- **Torque [Nm]** normally distributed around 40 Nm with a σ = 10 Nm and *no negative values*\n",
    "- **Tool wear [min]** The quality variants H/M/L add 5/3/2 minutes of tool wear to the used tool in the process.\n",
    "- **Machine failure** indicates whether the machine has failed in this particular datapoint, consists of five independent failure modes:\n",
    "- **TWF** (tool wear failure): the tool will be replaced or fail at a randomly selected tool wear time between 200 – 240 mins (**120** times in our dataset). At this point in time, the tool is **replaced 74** times, and **fails 46** times (randomly assigned).\n",
    "- **HDF** (heat dissipation failure) heat dissipation causes a process failure, if the difference between air-and process temperature is below 8.6 K and the tool’s rotational speed is below 1380 rpm. This is the case for **115** data points\n",
    "- **PWF** (power failure) the product of torque and rotational speed (in rad/s) equals the power required for the process. If this power is below 3500 W or above 9000 W, the process fails, which is the case **95** times in our dataset.\n",
    "- **OSF** (overstrain failure) if the product of tool wear and torque exceeds 11,000 minNm for the L product variant (12,000 for M, 13,000 for H), the process fails due to overstrain. This is true for **98** datapoints\n",
    "- **RNF** (random failure) each process has a chance of 0,1 % to fail regardless of its process parameters. This is the case for **19** datapoints, more frequent than *could be expected* for 10,000 datapoints in our dataset."
   ]
  },
  {
   "cell_type": "markdown",
   "metadata": {
    "papermill": {
     "duration": 0.051231,
     "end_time": "2021-09-22T13:10:03.418999",
     "exception": false,
     "start_time": "2021-09-22T13:10:03.367768",
     "status": "completed"
    },
    "tags": []
   },
   "source": [
    "## Data Preparation"
   ]
  },
  {
   "cell_type": "code",
   "execution_count": 23,
   "metadata": {
    "execution": {
     "iopub.execute_input": "2021-09-22T13:10:03.523909Z",
     "iopub.status.busy": "2021-09-22T13:10:03.523234Z",
     "iopub.status.idle": "2021-09-22T13:10:03.530731Z",
     "shell.execute_reply": "2021-09-22T13:10:03.531215Z",
     "shell.execute_reply.started": "2021-09-22T12:44:25.007526Z"
    },
    "papermill": {
     "duration": 0.061359,
     "end_time": "2021-09-22T13:10:03.531377",
     "exception": false,
     "start_time": "2021-09-22T13:10:03.470018",
     "status": "completed"
    },
    "tags": []
   },
   "outputs": [],
   "source": [
    "y = preMain['Machine failure']\n",
    "x = preMain.drop(['Machine failure'], axis = 1)\n",
    "\n",
    "varCats = preMain['Type']\n",
    "varNums = preMain[['Air temperature [K]', 'Process temperature [K]', \n",
    "                   'Rotational speed [rpm]', 'Torque [Nm]', 'Tool wear [min]']]\n"
   ]
  },
  {
   "cell_type": "markdown",
   "metadata": {
    "papermill": {
     "duration": 0.050123,
     "end_time": "2021-09-22T13:10:03.632028",
     "exception": false,
     "start_time": "2021-09-22T13:10:03.581905",
     "status": "completed"
    },
    "tags": []
   },
   "source": [
    "### Normalization operation for numerical stability"
   ]
  },
  {
   "cell_type": "code",
   "execution_count": 24,
   "metadata": {
    "execution": {
     "iopub.execute_input": "2021-09-22T13:10:03.736243Z",
     "iopub.status.busy": "2021-09-22T13:10:03.735591Z",
     "iopub.status.idle": "2021-09-22T13:10:03.860650Z",
     "shell.execute_reply": "2021-09-22T13:10:03.860042Z",
     "shell.execute_reply.started": "2021-09-22T12:44:25.021328Z"
    },
    "papermill": {
     "duration": 0.178148,
     "end_time": "2021-09-22T13:10:03.860801",
     "exception": false,
     "start_time": "2021-09-22T13:10:03.682653",
     "status": "completed"
    },
    "tags": []
   },
   "outputs": [],
   "source": [
    "from sklearn.preprocessing import StandardScaler\n",
    "std = StandardScaler()\n",
    "x  = std.fit_transform(varNums)"
   ]
  },
  {
   "cell_type": "code",
   "execution_count": 25,
   "metadata": {
    "execution": {
     "iopub.execute_input": "2021-09-22T13:10:03.965302Z",
     "iopub.status.busy": "2021-09-22T13:10:03.964657Z",
     "iopub.status.idle": "2021-09-22T13:10:03.975481Z",
     "shell.execute_reply": "2021-09-22T13:10:03.974969Z",
     "shell.execute_reply.started": "2021-09-22T12:47:56.588676Z"
    },
    "papermill": {
     "duration": 0.064343,
     "end_time": "2021-09-22T13:10:03.975646",
     "exception": false,
     "start_time": "2021-09-22T13:10:03.911303",
     "status": "completed"
    },
    "tags": []
   },
   "outputs": [],
   "source": [
    "from sklearn.preprocessing import OrdinalEncoder\n",
    "enco = OrdinalEncoder()\n",
    "preMain['Type']= enco.fit_transform(preMain['Type'].values.reshape(-1, 1))"
   ]
  },
  {
   "cell_type": "code",
   "execution_count": 26,
   "metadata": {
    "execution": {
     "iopub.execute_input": "2021-09-22T13:10:04.082569Z",
     "iopub.status.busy": "2021-09-22T13:10:04.081224Z",
     "iopub.status.idle": "2021-09-22T13:10:04.476470Z",
     "shell.execute_reply": "2021-09-22T13:10:04.475085Z",
     "shell.execute_reply.started": "2021-09-22T12:50:09.095505Z"
    },
    "papermill": {
     "duration": 0.450242,
     "end_time": "2021-09-22T13:10:04.476743",
     "exception": false,
     "start_time": "2021-09-22T13:10:04.026501",
     "status": "completed"
    },
    "tags": []
   },
   "outputs": [
    {
     "data": {
      "image/png": "[encoded data removed]",
      "text/plain": [
       "<Figure size 432x288 with 1 Axes>"
      ]
     },
     "metadata": {
      "needs_background": "light"
     },
     "output_type": "display_data"
    }
   ],
   "source": [
    "preMain['Type'].unique()\n",
    "sea.histplot(x=\"Type\", hue=\"Machine failure\", data=preMain);"
   ]
  },
  {
   "cell_type": "markdown",
   "metadata": {
    "papermill": {
     "duration": 0.051105,
     "end_time": "2021-09-22T13:10:04.585968",
     "exception": false,
     "start_time": "2021-09-22T13:10:04.534863",
     "status": "completed"
    },
    "tags": []
   },
   "source": [
    "### Now: L(Low) = 1, M(Medium) = 2, H(High) = 0"
   ]
  },
  {
   "cell_type": "code",
   "execution_count": 27,
   "metadata": {
    "execution": {
     "iopub.execute_input": "2021-09-22T13:10:04.694272Z",
     "iopub.status.busy": "2021-09-22T13:10:04.693621Z",
     "iopub.status.idle": "2021-09-22T13:10:04.748139Z",
     "shell.execute_reply": "2021-09-22T13:10:04.747600Z",
     "shell.execute_reply.started": "2021-09-22T12:54:13.806429Z"
    },
    "papermill": {
     "duration": 0.110834,
     "end_time": "2021-09-22T13:10:04.748292",
     "exception": false,
     "start_time": "2021-09-22T13:10:04.637458",
     "status": "completed"
    },
    "tags": []
   },
   "outputs": [],
   "source": [
    "# Split our data to train and test\n",
    "from sklearn.model_selection import train_test_split\n",
    "\n",
    "X_train, X_test, y_train, y_test = train_test_split(x, y, test_size=0.33, random_state=84)"
   ]
  },
  {
   "cell_type": "code",
   "execution_count": 28,
   "metadata": {
    "execution": {
     "iopub.execute_input": "2021-09-22T13:10:04.857813Z",
     "iopub.status.busy": "2021-09-22T13:10:04.856995Z",
     "iopub.status.idle": "2021-09-22T13:10:04.860386Z",
     "shell.execute_reply": "2021-09-22T13:10:04.860890Z",
     "shell.execute_reply.started": "2021-09-22T12:54:59.903164Z"
    },
    "papermill": {
     "duration": 0.061102,
     "end_time": "2021-09-22T13:10:04.861072",
     "exception": false,
     "start_time": "2021-09-22T13:10:04.799970",
     "status": "completed"
    },
    "tags": []
   },
   "outputs": [
    {
     "data": {
      "text/plain": [
       "array([[-0.50242514, -0.94735989,  0.68176718, -0.7811567 , -0.03065154],\n",
       "       [ 1.74739637,  1.54647288,  0.47538049, -0.52033342,  0.20500868],\n",
       "       [ 1.89738447,  2.15308085, -0.04337523, -0.05887684,  0.80201456],\n",
       "       ...,\n",
       "       [-0.60241721, -0.94735989, -0.29438606,  0.19191477, -0.25060108],\n",
       "       [ 1.74739637,  1.20946845, -0.48961671,  0.52295971,  1.0219641 ],\n",
       "       [-0.65241324, -0.61035546, -0.64580123,  0.95432129,  1.44615249]])"
      ]
     },
     "execution_count": 28,
     "metadata": {},
     "output_type": "execute_result"
    }
   ],
   "source": [
    "X_test"
   ]
  },
  {
   "cell_type": "code",
   "execution_count": 29,
   "metadata": {
    "execution": {
     "iopub.execute_input": "2021-09-22T13:10:04.972254Z",
     "iopub.status.busy": "2021-09-22T13:10:04.971419Z",
     "iopub.status.idle": "2021-09-22T13:10:04.974975Z",
     "shell.execute_reply": "2021-09-22T13:10:04.974390Z",
     "shell.execute_reply.started": "2021-09-22T12:55:54.345985Z"
    },
    "papermill": {
     "duration": 0.060562,
     "end_time": "2021-09-22T13:10:04.975123",
     "exception": false,
     "start_time": "2021-09-22T13:10:04.914561",
     "status": "completed"
    },
    "tags": []
   },
   "outputs": [
    {
     "data": {
      "text/plain": [
       "array([[-8.52397376e-01, -1.48656697e+00,  2.04838171e+00,\n",
       "        -1.79435483e+00, -6.20729014e-02],\n",
       "       [-1.45234978e+00, -8.79959002e-01, -3.61322284e-01,\n",
       "         2.32041433e-01, -6.90500149e-01],\n",
       "       [ 1.19744000e+00,  1.14206757e+00,  1.01644829e+00,\n",
       "        -1.31283493e+00,  6.36125481e-02],\n",
       "       ...,\n",
       "       [ 1.49741620e+00,  7.37662252e-01, -2.72073988e-01,\n",
       "         3.02263085e-01,  7.69823378e-04],\n",
       "       [ 6.47483633e-01,  4.00657824e-01, -6.29067172e-01,\n",
       "         7.15347977e-02, -8.47606960e-01],\n",
       "       [ 4.47499498e-01,  6.02860481e-01,  5.42316713e-01,\n",
       "        -4.70175095e-01,  7.07750477e-01]])"
      ]
     },
     "execution_count": 29,
     "metadata": {},
     "output_type": "execute_result"
    }
   ],
   "source": [
    "X_train"
   ]
  },
  {
   "cell_type": "markdown",
   "metadata": {
    "papermill": {
     "duration": 0.051424,
     "end_time": "2021-09-22T13:10:05.083229",
     "exception": false,
     "start_time": "2021-09-22T13:10:05.031805",
     "status": "completed"
    },
    "tags": []
   },
   "source": [
    "## Modeling"
   ]
  },
  {
   "cell_type": "code",
   "execution_count": 30,
   "metadata": {
    "execution": {
     "iopub.execute_input": "2021-09-22T13:10:05.195069Z",
     "iopub.status.busy": "2021-09-22T13:10:05.194322Z",
     "iopub.status.idle": "2021-09-22T13:10:05.311396Z",
     "shell.execute_reply": "2021-09-22T13:10:05.312614Z",
     "shell.execute_reply.started": "2021-09-22T12:59:12.641599Z"
    },
    "papermill": {
     "duration": 0.176807,
     "end_time": "2021-09-22T13:10:05.312927",
     "exception": false,
     "start_time": "2021-09-22T13:10:05.136120",
     "status": "completed"
    },
    "tags": []
   },
   "outputs": [
    {
     "data": {
      "text/plain": [
       "LogisticRegression()"
      ]
     },
     "execution_count": 30,
     "metadata": {},
     "output_type": "execute_result"
    }
   ],
   "source": [
    "from sklearn.linear_model import LogisticRegression\n",
    "logReg = LogisticRegression() \n",
    "logReg.fit(X_train, y_train)"
   ]
  },
  {
   "cell_type": "code",
   "execution_count": 31,
   "metadata": {
    "execution": {
     "iopub.execute_input": "2021-09-22T13:10:05.488860Z",
     "iopub.status.busy": "2021-09-22T13:10:05.487644Z",
     "iopub.status.idle": "2021-09-22T13:10:05.493389Z",
     "shell.execute_reply": "2021-09-22T13:10:05.494486Z",
     "shell.execute_reply.started": "2021-09-22T12:59:56.063191Z"
    },
    "papermill": {
     "duration": 0.075182,
     "end_time": "2021-09-22T13:10:05.494790",
     "exception": false,
     "start_time": "2021-09-22T13:10:05.419608",
     "status": "completed"
    },
    "tags": []
   },
   "outputs": [],
   "source": [
    "# Make predictions \n",
    "pred = logReg.predict(X_test)"
   ]
  },
  {
   "cell_type": "markdown",
   "metadata": {
    "papermill": {
     "duration": 0.064803,
     "end_time": "2021-09-22T13:10:05.657064",
     "exception": false,
     "start_time": "2021-09-22T13:10:05.592261",
     "status": "completed"
    },
    "tags": []
   },
   "source": [
    "###  Calculate the accuracy score by comparing the actual values and predicted values."
   ]
  },
  {
   "cell_type": "code",
   "execution_count": 32,
   "metadata": {
    "execution": {
     "iopub.execute_input": "2021-09-22T13:10:05.769055Z",
     "iopub.status.busy": "2021-09-22T13:10:05.768338Z",
     "iopub.status.idle": "2021-09-22T13:10:05.785813Z",
     "shell.execute_reply": "2021-09-22T13:10:05.785271Z",
     "shell.execute_reply.started": "2021-09-22T13:05:29.711100Z"
    },
    "papermill": {
     "duration": 0.076285,
     "end_time": "2021-09-22T13:10:05.785960",
     "exception": false,
     "start_time": "2021-09-22T13:10:05.709675",
     "status": "completed"
    },
    "tags": []
   },
   "outputs": [
    {
     "name": "stdout",
     "output_type": "stream",
     "text": [
      "True Positive(TP) =  26\n",
      "False Positive(FP) =  7\n",
      "True Negative(TN) =  3175\n",
      "False Negative(FN) =  92\n",
      "Accuracy of binary classification = 0.970\n"
     ]
    }
   ],
   "source": [
    "from sklearn.metrics import confusion_matrix\n",
    "cnfMax = confusion_matrix(y_test, pred)\n",
    "\n",
    "TN, FP, FN, TP = confusion_matrix(y_test, pred).ravel()\n",
    "\n",
    "print('True Positive(TP) = ', TP)\n",
    "print('False Positive(FP) = ', FP)\n",
    "print('True Negative(TN) = ', TN)\n",
    "print('False Negative(FN) = ', FN)\n",
    "\n",
    "accuracy = (TP+TN) / (TP+FP+TN+FN)\n",
    "\n",
    "print('Accuracy of binary classification = {:0.3f}'.format(accuracy))"
   ]
  }
 ],
 "metadata": {
  "kernelspec": {
   "display_name": "Python 3",
   "language": "python",
   "name": "python3"
  },
  "language_info": {
   "codemirror_mode": {
    "name": "ipython",
    "version": 3
   },
   "file_extension": ".py",
   "mimetype": "text/x-python",
   "name": "python",
   "nbconvert_exporter": "python",
   "pygments_lexer": "ipython3",
   "version": "3.8.5"
  },
  "papermill": {
   "default_parameters": {},
   "duration": 20.841822,
   "end_time": "2021-09-22T13:10:07.265482",
   "environment_variables": {},
   "exception": null,
   "input_path": "__notebook__.ipynb",
   "output_path": "__notebook__.ipynb",
   "parameters": {},
   "start_time": "2021-09-22T13:09:46.423660",
   "version": "2.3.3"
  }
 },
 "nbformat": 4,
 "nbformat_minor": 5
}
